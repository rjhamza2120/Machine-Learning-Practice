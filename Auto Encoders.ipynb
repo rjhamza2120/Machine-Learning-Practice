{
 "cells": [
  {
   "cell_type": "code",
   "execution_count": 1,
   "id": "c527cc54-8d78-4311-9d64-a66bcecab6a3",
   "metadata": {},
   "outputs": [
    {
     "name": "stdout",
     "output_type": "stream",
     "text": [
      "Requirement already satisfied: tensorflow in c:\\users\\laptop\\anaconda3\\lib\\site-packages (2.17.0)\n",
      "Requirement already satisfied: tensorflow-intel==2.17.0 in c:\\users\\laptop\\anaconda3\\lib\\site-packages (from tensorflow) (2.17.0)\n",
      "Requirement already satisfied: absl-py>=1.0.0 in c:\\users\\laptop\\anaconda3\\lib\\site-packages (from tensorflow-intel==2.17.0->tensorflow) (2.1.0)\n",
      "Requirement already satisfied: astunparse>=1.6.0 in c:\\users\\laptop\\anaconda3\\lib\\site-packages (from tensorflow-intel==2.17.0->tensorflow) (1.6.3)\n",
      "Requirement already satisfied: flatbuffers>=24.3.25 in c:\\users\\laptop\\anaconda3\\lib\\site-packages (from tensorflow-intel==2.17.0->tensorflow) (24.3.25)\n",
      "Requirement already satisfied: gast!=0.5.0,!=0.5.1,!=0.5.2,>=0.2.1 in c:\\users\\laptop\\anaconda3\\lib\\site-packages (from tensorflow-intel==2.17.0->tensorflow) (0.6.0)\n",
      "Requirement already satisfied: google-pasta>=0.1.1 in c:\\users\\laptop\\anaconda3\\lib\\site-packages (from tensorflow-intel==2.17.0->tensorflow) (0.2.0)\n",
      "Requirement already satisfied: h5py>=3.10.0 in c:\\users\\laptop\\anaconda3\\lib\\site-packages (from tensorflow-intel==2.17.0->tensorflow) (3.11.0)\n",
      "Requirement already satisfied: libclang>=13.0.0 in c:\\users\\laptop\\anaconda3\\lib\\site-packages (from tensorflow-intel==2.17.0->tensorflow) (18.1.1)\n",
      "Requirement already satisfied: ml-dtypes<0.5.0,>=0.3.1 in c:\\users\\laptop\\anaconda3\\lib\\site-packages (from tensorflow-intel==2.17.0->tensorflow) (0.4.0)\n",
      "Requirement already satisfied: opt-einsum>=2.3.2 in c:\\users\\laptop\\anaconda3\\lib\\site-packages (from tensorflow-intel==2.17.0->tensorflow) (3.3.0)\n",
      "Requirement already satisfied: packaging in c:\\users\\laptop\\anaconda3\\lib\\site-packages (from tensorflow-intel==2.17.0->tensorflow) (23.1)\n",
      "Requirement already satisfied: protobuf!=4.21.0,!=4.21.1,!=4.21.2,!=4.21.3,!=4.21.4,!=4.21.5,<5.0.0dev,>=3.20.3 in c:\\users\\laptop\\anaconda3\\lib\\site-packages (from tensorflow-intel==2.17.0->tensorflow) (4.25.3)\n",
      "Requirement already satisfied: requests<3,>=2.21.0 in c:\\users\\laptop\\anaconda3\\lib\\site-packages (from tensorflow-intel==2.17.0->tensorflow) (2.31.0)\n",
      "Requirement already satisfied: setuptools in c:\\users\\laptop\\anaconda3\\lib\\site-packages (from tensorflow-intel==2.17.0->tensorflow) (68.2.2)\n",
      "Requirement already satisfied: six>=1.12.0 in c:\\users\\laptop\\anaconda3\\lib\\site-packages (from tensorflow-intel==2.17.0->tensorflow) (1.16.0)\n",
      "Requirement already satisfied: termcolor>=1.1.0 in c:\\users\\laptop\\anaconda3\\lib\\site-packages (from tensorflow-intel==2.17.0->tensorflow) (2.4.0)\n",
      "Requirement already satisfied: typing-extensions>=3.6.6 in c:\\users\\laptop\\anaconda3\\lib\\site-packages (from tensorflow-intel==2.17.0->tensorflow) (4.9.0)\n",
      "Requirement already satisfied: wrapt>=1.11.0 in c:\\users\\laptop\\anaconda3\\lib\\site-packages (from tensorflow-intel==2.17.0->tensorflow) (1.14.1)\n",
      "Requirement already satisfied: grpcio<2.0,>=1.24.3 in c:\\users\\laptop\\anaconda3\\lib\\site-packages (from tensorflow-intel==2.17.0->tensorflow) (1.65.1)\n",
      "Requirement already satisfied: tensorboard<2.18,>=2.17 in c:\\users\\laptop\\anaconda3\\lib\\site-packages (from tensorflow-intel==2.17.0->tensorflow) (2.17.0)\n",
      "Requirement already satisfied: keras>=3.2.0 in c:\\users\\laptop\\anaconda3\\lib\\site-packages (from tensorflow-intel==2.17.0->tensorflow) (3.4.1)\n",
      "Requirement already satisfied: tensorflow-io-gcs-filesystem>=0.23.1 in c:\\users\\laptop\\anaconda3\\lib\\site-packages (from tensorflow-intel==2.17.0->tensorflow) (0.31.0)\n",
      "Requirement already satisfied: numpy<2.0.0,>=1.23.5 in c:\\users\\laptop\\anaconda3\\lib\\site-packages (from tensorflow-intel==2.17.0->tensorflow) (1.26.4)\n",
      "Requirement already satisfied: wheel<1.0,>=0.23.0 in c:\\users\\laptop\\anaconda3\\lib\\site-packages (from astunparse>=1.6.0->tensorflow-intel==2.17.0->tensorflow) (0.41.2)\n",
      "Requirement already satisfied: rich in c:\\users\\laptop\\anaconda3\\lib\\site-packages (from keras>=3.2.0->tensorflow-intel==2.17.0->tensorflow) (13.3.5)\n",
      "Requirement already satisfied: namex in c:\\users\\laptop\\anaconda3\\lib\\site-packages (from keras>=3.2.0->tensorflow-intel==2.17.0->tensorflow) (0.0.8)\n",
      "Requirement already satisfied: optree in c:\\users\\laptop\\anaconda3\\lib\\site-packages (from keras>=3.2.0->tensorflow-intel==2.17.0->tensorflow) (0.12.1)\n",
      "Requirement already satisfied: charset-normalizer<4,>=2 in c:\\users\\laptop\\anaconda3\\lib\\site-packages (from requests<3,>=2.21.0->tensorflow-intel==2.17.0->tensorflow) (2.0.4)\n",
      "Requirement already satisfied: idna<4,>=2.5 in c:\\users\\laptop\\anaconda3\\lib\\site-packages (from requests<3,>=2.21.0->tensorflow-intel==2.17.0->tensorflow) (3.4)\n",
      "Requirement already satisfied: urllib3<3,>=1.21.1 in c:\\users\\laptop\\anaconda3\\lib\\site-packages (from requests<3,>=2.21.0->tensorflow-intel==2.17.0->tensorflow) (2.0.7)\n",
      "Requirement already satisfied: certifi>=2017.4.17 in c:\\users\\laptop\\anaconda3\\lib\\site-packages (from requests<3,>=2.21.0->tensorflow-intel==2.17.0->tensorflow) (2024.2.2)\n",
      "Requirement already satisfied: markdown>=2.6.8 in c:\\users\\laptop\\anaconda3\\lib\\site-packages (from tensorboard<2.18,>=2.17->tensorflow-intel==2.17.0->tensorflow) (3.4.1)\n",
      "Requirement already satisfied: tensorboard-data-server<0.8.0,>=0.7.0 in c:\\users\\laptop\\anaconda3\\lib\\site-packages (from tensorboard<2.18,>=2.17->tensorflow-intel==2.17.0->tensorflow) (0.7.2)\n",
      "Requirement already satisfied: werkzeug>=1.0.1 in c:\\users\\laptop\\anaconda3\\lib\\site-packages (from tensorboard<2.18,>=2.17->tensorflow-intel==2.17.0->tensorflow) (2.2.3)\n",
      "Requirement already satisfied: MarkupSafe>=2.1.1 in c:\\users\\laptop\\anaconda3\\lib\\site-packages (from werkzeug>=1.0.1->tensorboard<2.18,>=2.17->tensorflow-intel==2.17.0->tensorflow) (2.1.3)\n",
      "Requirement already satisfied: markdown-it-py<3.0.0,>=2.2.0 in c:\\users\\laptop\\anaconda3\\lib\\site-packages (from rich->keras>=3.2.0->tensorflow-intel==2.17.0->tensorflow) (2.2.0)\n",
      "Requirement already satisfied: pygments<3.0.0,>=2.13.0 in c:\\users\\laptop\\anaconda3\\lib\\site-packages (from rich->keras>=3.2.0->tensorflow-intel==2.17.0->tensorflow) (2.15.1)\n",
      "Requirement already satisfied: mdurl~=0.1 in c:\\users\\laptop\\anaconda3\\lib\\site-packages (from markdown-it-py<3.0.0,>=2.2.0->rich->keras>=3.2.0->tensorflow-intel==2.17.0->tensorflow) (0.1.0)\n"
     ]
    }
   ],
   "source": [
    "!pip install tensorflow"
   ]
  },
  {
   "cell_type": "code",
   "execution_count": 2,
   "id": "c29d676b-b69d-4d70-9428-c048c83e4d73",
   "metadata": {},
   "outputs": [
    {
     "name": "stdout",
     "output_type": "stream",
     "text": [
      "Requirement already satisfied: keras in c:\\users\\laptop\\anaconda3\\lib\\site-packages (3.4.1)\n",
      "Requirement already satisfied: absl-py in c:\\users\\laptop\\anaconda3\\lib\\site-packages (from keras) (2.1.0)\n",
      "Requirement already satisfied: numpy in c:\\users\\laptop\\anaconda3\\lib\\site-packages (from keras) (1.26.4)\n",
      "Requirement already satisfied: rich in c:\\users\\laptop\\anaconda3\\lib\\site-packages (from keras) (13.3.5)\n",
      "Requirement already satisfied: namex in c:\\users\\laptop\\anaconda3\\lib\\site-packages (from keras) (0.0.8)\n",
      "Requirement already satisfied: h5py in c:\\users\\laptop\\anaconda3\\lib\\site-packages (from keras) (3.11.0)\n",
      "Requirement already satisfied: optree in c:\\users\\laptop\\anaconda3\\lib\\site-packages (from keras) (0.12.1)\n",
      "Requirement already satisfied: ml-dtypes in c:\\users\\laptop\\anaconda3\\lib\\site-packages (from keras) (0.4.0)\n",
      "Requirement already satisfied: packaging in c:\\users\\laptop\\anaconda3\\lib\\site-packages (from keras) (23.1)\n",
      "Requirement already satisfied: typing-extensions>=4.5.0 in c:\\users\\laptop\\anaconda3\\lib\\site-packages (from optree->keras) (4.9.0)\n",
      "Requirement already satisfied: markdown-it-py<3.0.0,>=2.2.0 in c:\\users\\laptop\\anaconda3\\lib\\site-packages (from rich->keras) (2.2.0)\n",
      "Requirement already satisfied: pygments<3.0.0,>=2.13.0 in c:\\users\\laptop\\anaconda3\\lib\\site-packages (from rich->keras) (2.15.1)\n",
      "Requirement already satisfied: mdurl~=0.1 in c:\\users\\laptop\\anaconda3\\lib\\site-packages (from markdown-it-py<3.0.0,>=2.2.0->rich->keras) (0.1.0)\n"
     ]
    }
   ],
   "source": [
    "!pip install keras "
   ]
  },
  {
   "cell_type": "code",
   "execution_count": 1,
   "id": "13670792-fbae-4a87-b243-899f252b4a01",
   "metadata": {},
   "outputs": [],
   "source": [
    "import tensorflow as tf\n",
    "from tensorflow.keras.datasets import mnist\n",
    "import numpy as np\n",
    "import matplotlib.pyplot as plt"
   ]
  },
  {
   "cell_type": "code",
   "execution_count": 2,
   "id": "34fa5855-0bc4-4c56-8251-ffd5d4dd3b63",
   "metadata": {},
   "outputs": [],
   "source": [
    "(X_train,_),(X_test,_) = mnist.load_data()"
   ]
  },
  {
   "cell_type": "code",
   "execution_count": 3,
   "id": "89a6315e-7f06-465d-b3fb-ebed7e803368",
   "metadata": {},
   "outputs": [
    {
     "data": {
      "image/png": "[encoded data removed]",
      "text/plain": [
       "<Figure size 2000x400 with 10 Axes>"
      ]
     },
     "metadata": {},
     "output_type": "display_data"
    }
   ],
   "source": [
    "n=10\n",
    "\n",
    "plt.figure(figsize=(20,4))\n",
    "\n",
    "for i in range(n):\n",
    "    \n",
    "    ax=plt.subplot(2,n,i+1)\n",
    "    plt.imshow(X_test[i].reshape(28,28))\n",
    "    \n",
    "    plt.gray()\n",
    "    \n",
    "    ax.get_xaxis().set_visible(False)\n",
    "    ax.get_yaxis().set_visible(False)\n",
    "\n",
    "plt.show()\n",
    "plt.close()"
   ]
  },
  {
   "cell_type": "code",
   "execution_count": 4,
   "id": "9cf1aa6a-5c9f-4bdc-acea-9b635383b449",
   "metadata": {},
   "outputs": [],
   "source": [
    "from tensorflow.keras.layers import Input,Conv2D,MaxPooling2D,Flatten,Reshape,UpSampling2D\n",
    "from tensorflow.keras.models import Model"
   ]
  },
  {
   "cell_type": "code",
   "execution_count": 5,
   "id": "f841f401-0761-44cb-87e3-091064ebecbb",
   "metadata": {},
   "outputs": [
    {
     "name": "stdout",
     "output_type": "stream",
     "text": [
      "(60000, 784)\n",
      "(10000, 784)\n"
     ]
    }
   ],
   "source": [
    "X_train = X_train.astype(\"float32\") / 255\n",
    "X_test = X_test.astype(\"float32\") / 255\n",
    "X_train = X_train.reshape(len(X_train),28*28*1)\n",
    "X_test = X_test.reshape(len(X_test),28*28*1)\n",
    "print(X_train.shape)\n",
    "print(X_test.shape)"
   ]
  },
  {
   "cell_type": "code",
   "execution_count": 6,
   "id": "9816f239-804d-433e-8f51-3a1c7a313c78",
   "metadata": {},
   "outputs": [
    {
     "name": "stderr",
     "output_type": "stream",
     "text": [
      "C:\\Users\\Laptop\\anaconda3\\Lib\\site-packages\\keras\\src\\layers\\reshaping\\reshape.py:39: UserWarning: Do not pass an `input_shape`/`input_dim` argument to a layer. When using Sequential models, prefer using an `Input(shape)` object as the first layer in the model instead.\n",
      "  super().__init__(**kwargs)\n"
     ]
    },
    {
     "data": {
      "text/html": [
       "<pre style=\"white-space:pre;overflow-x:auto;line-height:normal;font-family:Menlo,'DejaVu Sans Mono',consolas,'Courier New',monospace\"><span style=\"font-weight: bold\">Model: \"functional\"</span>\n",
       "</pre>\n"
      ],
      "text/plain": [
       "\u001b[1mModel: \"functional\"\u001b[0m\n"
      ]
     },
     "metadata": {},
     "output_type": "display_data"
    },
    {
     "data": {
      "text/html": [
       "<pre style=\"white-space:pre;overflow-x:auto;line-height:normal;font-family:Menlo,'DejaVu Sans Mono',consolas,'Courier New',monospace\">┏━━━━━━━━━━━━━━━━━━━━━━━━━━━━━━━━━━━━━━┳━━━━━━━━━━━━━━━━━━━━━━━━━━━━━┳━━━━━━━━━━━━━━━━━┓\n",
       "┃<span style=\"font-weight: bold\"> Layer (type)                         </span>┃<span style=\"font-weight: bold\"> Output Shape                </span>┃<span style=\"font-weight: bold\">         Param # </span>┃\n",
       "┡━━━━━━━━━━━━━━━━━━━━━━━━━━━━━━━━━━━━━━╇━━━━━━━━━━━━━━━━━━━━━━━━━━━━━╇━━━━━━━━━━━━━━━━━┩\n",
       "│ input_layer (<span style=\"color: #0087ff; text-decoration-color: #0087ff\">InputLayer</span>)             │ (<span style=\"color: #00d7ff; text-decoration-color: #00d7ff\">None</span>, <span style=\"color: #00af00; text-decoration-color: #00af00\">28</span>, <span style=\"color: #00af00; text-decoration-color: #00af00\">28</span>, <span style=\"color: #00af00; text-decoration-color: #00af00\">1</span>)           │               <span style=\"color: #00af00; text-decoration-color: #00af00\">0</span> │\n",
       "├──────────────────────────────────────┼─────────────────────────────┼─────────────────┤\n",
       "│ conv2d (<span style=\"color: #0087ff; text-decoration-color: #0087ff\">Conv2D</span>)                      │ (<span style=\"color: #00d7ff; text-decoration-color: #00d7ff\">None</span>, <span style=\"color: #00af00; text-decoration-color: #00af00\">28</span>, <span style=\"color: #00af00; text-decoration-color: #00af00\">28</span>, <span style=\"color: #00af00; text-decoration-color: #00af00\">32</span>)          │             <span style=\"color: #00af00; text-decoration-color: #00af00\">320</span> │\n",
       "├──────────────────────────────────────┼─────────────────────────────┼─────────────────┤\n",
       "│ max_pooling2d (<span style=\"color: #0087ff; text-decoration-color: #0087ff\">MaxPooling2D</span>)         │ (<span style=\"color: #00d7ff; text-decoration-color: #00d7ff\">None</span>, <span style=\"color: #00af00; text-decoration-color: #00af00\">14</span>, <span style=\"color: #00af00; text-decoration-color: #00af00\">14</span>, <span style=\"color: #00af00; text-decoration-color: #00af00\">32</span>)          │               <span style=\"color: #00af00; text-decoration-color: #00af00\">0</span> │\n",
       "├──────────────────────────────────────┼─────────────────────────────┼─────────────────┤\n",
       "│ conv2d_1 (<span style=\"color: #0087ff; text-decoration-color: #0087ff\">Conv2D</span>)                    │ (<span style=\"color: #00d7ff; text-decoration-color: #00d7ff\">None</span>, <span style=\"color: #00af00; text-decoration-color: #00af00\">14</span>, <span style=\"color: #00af00; text-decoration-color: #00af00\">14</span>, <span style=\"color: #00af00; text-decoration-color: #00af00\">32</span>)          │           <span style=\"color: #00af00; text-decoration-color: #00af00\">9,248</span> │\n",
       "├──────────────────────────────────────┼─────────────────────────────┼─────────────────┤\n",
       "│ max_pooling2d_1 (<span style=\"color: #0087ff; text-decoration-color: #0087ff\">MaxPooling2D</span>)       │ (<span style=\"color: #00d7ff; text-decoration-color: #00d7ff\">None</span>, <span style=\"color: #00af00; text-decoration-color: #00af00\">7</span>, <span style=\"color: #00af00; text-decoration-color: #00af00\">7</span>, <span style=\"color: #00af00; text-decoration-color: #00af00\">32</span>)            │               <span style=\"color: #00af00; text-decoration-color: #00af00\">0</span> │\n",
       "├──────────────────────────────────────┼─────────────────────────────┼─────────────────┤\n",
       "│ conv2d_2 (<span style=\"color: #0087ff; text-decoration-color: #0087ff\">Conv2D</span>)                    │ (<span style=\"color: #00d7ff; text-decoration-color: #00d7ff\">None</span>, <span style=\"color: #00af00; text-decoration-color: #00af00\">7</span>, <span style=\"color: #00af00; text-decoration-color: #00af00\">7</span>, <span style=\"color: #00af00; text-decoration-color: #00af00\">4</span>)             │           <span style=\"color: #00af00; text-decoration-color: #00af00\">1,156</span> │\n",
       "├──────────────────────────────────────┼─────────────────────────────┼─────────────────┤\n",
       "│ max_pooling2d_2 (<span style=\"color: #0087ff; text-decoration-color: #0087ff\">MaxPooling2D</span>)       │ (<span style=\"color: #00d7ff; text-decoration-color: #00d7ff\">None</span>, <span style=\"color: #00af00; text-decoration-color: #00af00\">4</span>, <span style=\"color: #00af00; text-decoration-color: #00af00\">4</span>, <span style=\"color: #00af00; text-decoration-color: #00af00\">4</span>)             │               <span style=\"color: #00af00; text-decoration-color: #00af00\">0</span> │\n",
       "├──────────────────────────────────────┼─────────────────────────────┼─────────────────┤\n",
       "│ bot (<span style=\"color: #0087ff; text-decoration-color: #0087ff\">Flatten</span>)                        │ (<span style=\"color: #00d7ff; text-decoration-color: #00d7ff\">None</span>, <span style=\"color: #00af00; text-decoration-color: #00af00\">64</span>)                  │               <span style=\"color: #00af00; text-decoration-color: #00af00\">0</span> │\n",
       "├──────────────────────────────────────┼─────────────────────────────┼─────────────────┤\n",
       "│ bot0 (<span style=\"color: #0087ff; text-decoration-color: #0087ff\">Reshape</span>)                       │ (<span style=\"color: #00d7ff; text-decoration-color: #00d7ff\">None</span>, <span style=\"color: #00af00; text-decoration-color: #00af00\">4</span>, <span style=\"color: #00af00; text-decoration-color: #00af00\">4</span>, <span style=\"color: #00af00; text-decoration-color: #00af00\">4</span>)             │               <span style=\"color: #00af00; text-decoration-color: #00af00\">0</span> │\n",
       "├──────────────────────────────────────┼─────────────────────────────┼─────────────────┤\n",
       "│ bot1 (<span style=\"color: #0087ff; text-decoration-color: #0087ff\">Conv2D</span>)                        │ (<span style=\"color: #00d7ff; text-decoration-color: #00d7ff\">None</span>, <span style=\"color: #00af00; text-decoration-color: #00af00\">4</span>, <span style=\"color: #00af00; text-decoration-color: #00af00\">4</span>, <span style=\"color: #00af00; text-decoration-color: #00af00\">4</span>)             │             <span style=\"color: #00af00; text-decoration-color: #00af00\">148</span> │\n",
       "├──────────────────────────────────────┼─────────────────────────────┼─────────────────┤\n",
       "│ bot2 (<span style=\"color: #0087ff; text-decoration-color: #0087ff\">UpSampling2D</span>)                  │ (<span style=\"color: #00d7ff; text-decoration-color: #00d7ff\">None</span>, <span style=\"color: #00af00; text-decoration-color: #00af00\">8</span>, <span style=\"color: #00af00; text-decoration-color: #00af00\">8</span>, <span style=\"color: #00af00; text-decoration-color: #00af00\">4</span>)             │               <span style=\"color: #00af00; text-decoration-color: #00af00\">0</span> │\n",
       "├──────────────────────────────────────┼─────────────────────────────┼─────────────────┤\n",
       "│ bot3 (<span style=\"color: #0087ff; text-decoration-color: #0087ff\">Conv2D</span>)                        │ (<span style=\"color: #00d7ff; text-decoration-color: #00d7ff\">None</span>, <span style=\"color: #00af00; text-decoration-color: #00af00\">8</span>, <span style=\"color: #00af00; text-decoration-color: #00af00\">8</span>, <span style=\"color: #00af00; text-decoration-color: #00af00\">32</span>)            │           <span style=\"color: #00af00; text-decoration-color: #00af00\">1,184</span> │\n",
       "├──────────────────────────────────────┼─────────────────────────────┼─────────────────┤\n",
       "│ bot4 (<span style=\"color: #0087ff; text-decoration-color: #0087ff\">UpSampling2D</span>)                  │ (<span style=\"color: #00d7ff; text-decoration-color: #00d7ff\">None</span>, <span style=\"color: #00af00; text-decoration-color: #00af00\">16</span>, <span style=\"color: #00af00; text-decoration-color: #00af00\">16</span>, <span style=\"color: #00af00; text-decoration-color: #00af00\">32</span>)          │               <span style=\"color: #00af00; text-decoration-color: #00af00\">0</span> │\n",
       "├──────────────────────────────────────┼─────────────────────────────┼─────────────────┤\n",
       "│ bot5 (<span style=\"color: #0087ff; text-decoration-color: #0087ff\">Conv2D</span>)                        │ (<span style=\"color: #00d7ff; text-decoration-color: #00d7ff\">None</span>, <span style=\"color: #00af00; text-decoration-color: #00af00\">14</span>, <span style=\"color: #00af00; text-decoration-color: #00af00\">14</span>, <span style=\"color: #00af00; text-decoration-color: #00af00\">32</span>)          │           <span style=\"color: #00af00; text-decoration-color: #00af00\">9,248</span> │\n",
       "├──────────────────────────────────────┼─────────────────────────────┼─────────────────┤\n",
       "│ bot6 (<span style=\"color: #0087ff; text-decoration-color: #0087ff\">UpSampling2D</span>)                  │ (<span style=\"color: #00d7ff; text-decoration-color: #00d7ff\">None</span>, <span style=\"color: #00af00; text-decoration-color: #00af00\">28</span>, <span style=\"color: #00af00; text-decoration-color: #00af00\">28</span>, <span style=\"color: #00af00; text-decoration-color: #00af00\">32</span>)          │               <span style=\"color: #00af00; text-decoration-color: #00af00\">0</span> │\n",
       "├──────────────────────────────────────┼─────────────────────────────┼─────────────────┤\n",
       "│ bot7 (<span style=\"color: #0087ff; text-decoration-color: #0087ff\">Conv2D</span>)                        │ (<span style=\"color: #00d7ff; text-decoration-color: #00d7ff\">None</span>, <span style=\"color: #00af00; text-decoration-color: #00af00\">28</span>, <span style=\"color: #00af00; text-decoration-color: #00af00\">28</span>, <span style=\"color: #00af00; text-decoration-color: #00af00\">1</span>)           │             <span style=\"color: #00af00; text-decoration-color: #00af00\">289</span> │\n",
       "└──────────────────────────────────────┴─────────────────────────────┴─────────────────┘\n",
       "</pre>\n"
      ],
      "text/plain": [
       "┏━━━━━━━━━━━━━━━━━━━━━━━━━━━━━━━━━━━━━━┳━━━━━━━━━━━━━━━━━━━━━━━━━━━━━┳━━━━━━━━━━━━━━━━━┓\n",
       "┃\u001b[1m \u001b[0m\u001b[1mLayer (type)                        \u001b[0m\u001b[1m \u001b[0m┃\u001b[1m \u001b[0m\u001b[1mOutput Shape               \u001b[0m\u001b[1m \u001b[0m┃\u001b[1m \u001b[0m\u001b[1m        Param #\u001b[0m\u001b[1m \u001b[0m┃\n",
       "┡━━━━━━━━━━━━━━━━━━━━━━━━━━━━━━━━━━━━━━╇━━━━━━━━━━━━━━━━━━━━━━━━━━━━━╇━━━━━━━━━━━━━━━━━┩\n",
       "│ input_layer (\u001b[38;5;33mInputLayer\u001b[0m)             │ (\u001b[38;5;45mNone\u001b[0m, \u001b[38;5;34m28\u001b[0m, \u001b[38;5;34m28\u001b[0m, \u001b[38;5;34m1\u001b[0m)           │               \u001b[38;5;34m0\u001b[0m │\n",
       "├──────────────────────────────────────┼─────────────────────────────┼─────────────────┤\n",
       "│ conv2d (\u001b[38;5;33mConv2D\u001b[0m)                      │ (\u001b[38;5;45mNone\u001b[0m, \u001b[38;5;34m28\u001b[0m, \u001b[38;5;34m28\u001b[0m, \u001b[38;5;34m32\u001b[0m)          │             \u001b[38;5;34m320\u001b[0m │\n",
       "├──────────────────────────────────────┼─────────────────────────────┼─────────────────┤\n",
       "│ max_pooling2d (\u001b[38;5;33mMaxPooling2D\u001b[0m)         │ (\u001b[38;5;45mNone\u001b[0m, \u001b[38;5;34m14\u001b[0m, \u001b[38;5;34m14\u001b[0m, \u001b[38;5;34m32\u001b[0m)          │               \u001b[38;5;34m0\u001b[0m │\n",
       "├──────────────────────────────────────┼─────────────────────────────┼─────────────────┤\n",
       "│ conv2d_1 (\u001b[38;5;33mConv2D\u001b[0m)                    │ (\u001b[38;5;45mNone\u001b[0m, \u001b[38;5;34m14\u001b[0m, \u001b[38;5;34m14\u001b[0m, \u001b[38;5;34m32\u001b[0m)          │           \u001b[38;5;34m9,248\u001b[0m │\n",
       "├──────────────────────────────────────┼─────────────────────────────┼─────────────────┤\n",
       "│ max_pooling2d_1 (\u001b[38;5;33mMaxPooling2D\u001b[0m)       │ (\u001b[38;5;45mNone\u001b[0m, \u001b[38;5;34m7\u001b[0m, \u001b[38;5;34m7\u001b[0m, \u001b[38;5;34m32\u001b[0m)            │               \u001b[38;5;34m0\u001b[0m │\n",
       "├──────────────────────────────────────┼─────────────────────────────┼─────────────────┤\n",
       "│ conv2d_2 (\u001b[38;5;33mConv2D\u001b[0m)                    │ (\u001b[38;5;45mNone\u001b[0m, \u001b[38;5;34m7\u001b[0m, \u001b[38;5;34m7\u001b[0m, \u001b[38;5;34m4\u001b[0m)             │           \u001b[38;5;34m1,156\u001b[0m │\n",
       "├──────────────────────────────────────┼─────────────────────────────┼─────────────────┤\n",
       "│ max_pooling2d_2 (\u001b[38;5;33mMaxPooling2D\u001b[0m)       │ (\u001b[38;5;45mNone\u001b[0m, \u001b[38;5;34m4\u001b[0m, \u001b[38;5;34m4\u001b[0m, \u001b[38;5;34m4\u001b[0m)             │               \u001b[38;5;34m0\u001b[0m │\n",
       "├──────────────────────────────────────┼─────────────────────────────┼─────────────────┤\n",
       "│ bot (\u001b[38;5;33mFlatten\u001b[0m)                        │ (\u001b[38;5;45mNone\u001b[0m, \u001b[38;5;34m64\u001b[0m)                  │               \u001b[38;5;34m0\u001b[0m │\n",
       "├──────────────────────────────────────┼─────────────────────────────┼─────────────────┤\n",
       "│ bot0 (\u001b[38;5;33mReshape\u001b[0m)                       │ (\u001b[38;5;45mNone\u001b[0m, \u001b[38;5;34m4\u001b[0m, \u001b[38;5;34m4\u001b[0m, \u001b[38;5;34m4\u001b[0m)             │               \u001b[38;5;34m0\u001b[0m │\n",
       "├──────────────────────────────────────┼─────────────────────────────┼─────────────────┤\n",
       "│ bot1 (\u001b[38;5;33mConv2D\u001b[0m)                        │ (\u001b[38;5;45mNone\u001b[0m, \u001b[38;5;34m4\u001b[0m, \u001b[38;5;34m4\u001b[0m, \u001b[38;5;34m4\u001b[0m)             │             \u001b[38;5;34m148\u001b[0m │\n",
       "├──────────────────────────────────────┼─────────────────────────────┼─────────────────┤\n",
       "│ bot2 (\u001b[38;5;33mUpSampling2D\u001b[0m)                  │ (\u001b[38;5;45mNone\u001b[0m, \u001b[38;5;34m8\u001b[0m, \u001b[38;5;34m8\u001b[0m, \u001b[38;5;34m4\u001b[0m)             │               \u001b[38;5;34m0\u001b[0m │\n",
       "├──────────────────────────────────────┼─────────────────────────────┼─────────────────┤\n",
       "│ bot3 (\u001b[38;5;33mConv2D\u001b[0m)                        │ (\u001b[38;5;45mNone\u001b[0m, \u001b[38;5;34m8\u001b[0m, \u001b[38;5;34m8\u001b[0m, \u001b[38;5;34m32\u001b[0m)            │           \u001b[38;5;34m1,184\u001b[0m │\n",
       "├──────────────────────────────────────┼─────────────────────────────┼─────────────────┤\n",
       "│ bot4 (\u001b[38;5;33mUpSampling2D\u001b[0m)                  │ (\u001b[38;5;45mNone\u001b[0m, \u001b[38;5;34m16\u001b[0m, \u001b[38;5;34m16\u001b[0m, \u001b[38;5;34m32\u001b[0m)          │               \u001b[38;5;34m0\u001b[0m │\n",
       "├──────────────────────────────────────┼─────────────────────────────┼─────────────────┤\n",
       "│ bot5 (\u001b[38;5;33mConv2D\u001b[0m)                        │ (\u001b[38;5;45mNone\u001b[0m, \u001b[38;5;34m14\u001b[0m, \u001b[38;5;34m14\u001b[0m, \u001b[38;5;34m32\u001b[0m)          │           \u001b[38;5;34m9,248\u001b[0m │\n",
       "├──────────────────────────────────────┼─────────────────────────────┼─────────────────┤\n",
       "│ bot6 (\u001b[38;5;33mUpSampling2D\u001b[0m)                  │ (\u001b[38;5;45mNone\u001b[0m, \u001b[38;5;34m28\u001b[0m, \u001b[38;5;34m28\u001b[0m, \u001b[38;5;34m32\u001b[0m)          │               \u001b[38;5;34m0\u001b[0m │\n",
       "├──────────────────────────────────────┼─────────────────────────────┼─────────────────┤\n",
       "│ bot7 (\u001b[38;5;33mConv2D\u001b[0m)                        │ (\u001b[38;5;45mNone\u001b[0m, \u001b[38;5;34m28\u001b[0m, \u001b[38;5;34m28\u001b[0m, \u001b[38;5;34m1\u001b[0m)           │             \u001b[38;5;34m289\u001b[0m │\n",
       "└──────────────────────────────────────┴─────────────────────────────┴─────────────────┘\n"
      ]
     },
     "metadata": {},
     "output_type": "display_data"
    },
    {
     "data": {
      "text/html": [
       "<pre style=\"white-space:pre;overflow-x:auto;line-height:normal;font-family:Menlo,'DejaVu Sans Mono',consolas,'Courier New',monospace\"><span style=\"font-weight: bold\"> Total params: </span><span style=\"color: #00af00; text-decoration-color: #00af00\">21,593</span> (84.35 KB)\n",
       "</pre>\n"
      ],
      "text/plain": [
       "\u001b[1m Total params: \u001b[0m\u001b[38;5;34m21,593\u001b[0m (84.35 KB)\n"
      ]
     },
     "metadata": {},
     "output_type": "display_data"
    },
    {
     "data": {
      "text/html": [
       "<pre style=\"white-space:pre;overflow-x:auto;line-height:normal;font-family:Menlo,'DejaVu Sans Mono',consolas,'Courier New',monospace\"><span style=\"font-weight: bold\"> Trainable params: </span><span style=\"color: #00af00; text-decoration-color: #00af00\">21,593</span> (84.35 KB)\n",
       "</pre>\n"
      ],
      "text/plain": [
       "\u001b[1m Trainable params: \u001b[0m\u001b[38;5;34m21,593\u001b[0m (84.35 KB)\n"
      ]
     },
     "metadata": {},
     "output_type": "display_data"
    },
    {
     "data": {
      "text/html": [
       "<pre style=\"white-space:pre;overflow-x:auto;line-height:normal;font-family:Menlo,'DejaVu Sans Mono',consolas,'Courier New',monospace\"><span style=\"font-weight: bold\"> Non-trainable params: </span><span style=\"color: #00af00; text-decoration-color: #00af00\">0</span> (0.00 B)\n",
       "</pre>\n"
      ],
      "text/plain": [
       "\u001b[1m Non-trainable params: \u001b[0m\u001b[38;5;34m0\u001b[0m (0.00 B)\n"
      ]
     },
     "metadata": {},
     "output_type": "display_data"
    }
   ],
   "source": [
    "Autoencoder_input = Input(shape=(28,28,1))\n",
    "\n",
    "conv_en = Conv2D(32, (3,3), activation=\"relu\", padding=\"same\", kernel_initializer=\"he_normal\")(Autoencoder_input)\n",
    "conv_en = MaxPooling2D((2,2), padding=\"same\")(conv_en)\n",
    "\n",
    "conv_en = Conv2D(32,(3,3),activation=\"relu\",padding=\"same\")(conv_en)\n",
    "conv_en = MaxPooling2D((2,2),padding=\"same\")(conv_en)\n",
    "\n",
    "conv_en = Conv2D(4,(3,3),activation=\"relu\",padding=\"same\")(conv_en)\n",
    "conv_en = MaxPooling2D((2,2),padding=\"same\")(conv_en)\n",
    "\n",
    "conv_en = Flatten(name=\"bot\")(conv_en)\n",
    "conv_de = Reshape((4,4,4),input_shape=(64,),name=\"bot0\")(conv_en)\n",
    "\n",
    "conv_de = Conv2D(4,(3,3),activation=\"relu\",padding=\"same\",name=\"bot1\")(conv_de)\n",
    "conv_de = UpSampling2D((2,2),name=\"bot2\")(conv_de)\n",
    "\n",
    "conv_de = Conv2D(32,(3,3),activation=\"relu\",padding=\"same\",name=\"bot3\")(conv_de)\n",
    "conv_de = UpSampling2D((2,2),name=\"bot4\")(conv_de)\n",
    "\n",
    "conv_de = Conv2D(32,(3,3),activation=\"relu\",padding=\"valid\",name=\"bot5\")(conv_de)\n",
    "conv_de = UpSampling2D((2,2),name=\"bot6\")(conv_de)\n",
    "\n",
    "conv_de = Conv2D(1,(3,3),activation=\"sigmoid\",padding=\"same\",name=\"bot7\")(conv_de)\n",
    "\n",
    "AE_Conv = Model(inputs=Autoencoder_input , outputs=conv_de)\n",
    "\n",
    "AE_Conv.compile(optimizer=tf.keras.optimizers.SGD(0.09,clipvalue=2.5),loss=\"binary_crossentropy\",metrics=[\"accuracy\"])\n",
    "AE_Conv.summary()"
   ]
  },
  {
   "cell_type": "code",
   "execution_count": 7,
   "id": "4b7f3380-ce84-44df-a3f8-6047d15b918f",
   "metadata": {},
   "outputs": [
    {
     "data": {
      "text/html": [
       "<pre style=\"white-space:pre;overflow-x:auto;line-height:normal;font-family:Menlo,'DejaVu Sans Mono',consolas,'Courier New',monospace\"><span style=\"font-weight: bold\">Model: \"Encoder\"</span>\n",
       "</pre>\n"
      ],
      "text/plain": [
       "\u001b[1mModel: \"Encoder\"\u001b[0m\n"
      ]
     },
     "metadata": {},
     "output_type": "display_data"
    },
    {
     "data": {
      "text/html": [
       "<pre style=\"white-space:pre;overflow-x:auto;line-height:normal;font-family:Menlo,'DejaVu Sans Mono',consolas,'Courier New',monospace\">┏━━━━━━━━━━━━━━━━━━━━━━━━━━━━━━━━━━━━━━┳━━━━━━━━━━━━━━━━━━━━━━━━━━━━━┳━━━━━━━━━━━━━━━━━┓\n",
       "┃<span style=\"font-weight: bold\"> Layer (type)                         </span>┃<span style=\"font-weight: bold\"> Output Shape                </span>┃<span style=\"font-weight: bold\">         Param # </span>┃\n",
       "┡━━━━━━━━━━━━━━━━━━━━━━━━━━━━━━━━━━━━━━╇━━━━━━━━━━━━━━━━━━━━━━━━━━━━━╇━━━━━━━━━━━━━━━━━┩\n",
       "│ input_layer (<span style=\"color: #0087ff; text-decoration-color: #0087ff\">InputLayer</span>)             │ (<span style=\"color: #00d7ff; text-decoration-color: #00d7ff\">None</span>, <span style=\"color: #00af00; text-decoration-color: #00af00\">28</span>, <span style=\"color: #00af00; text-decoration-color: #00af00\">28</span>, <span style=\"color: #00af00; text-decoration-color: #00af00\">1</span>)           │               <span style=\"color: #00af00; text-decoration-color: #00af00\">0</span> │\n",
       "├──────────────────────────────────────┼─────────────────────────────┼─────────────────┤\n",
       "│ conv2d (<span style=\"color: #0087ff; text-decoration-color: #0087ff\">Conv2D</span>)                      │ (<span style=\"color: #00d7ff; text-decoration-color: #00d7ff\">None</span>, <span style=\"color: #00af00; text-decoration-color: #00af00\">28</span>, <span style=\"color: #00af00; text-decoration-color: #00af00\">28</span>, <span style=\"color: #00af00; text-decoration-color: #00af00\">32</span>)          │             <span style=\"color: #00af00; text-decoration-color: #00af00\">320</span> │\n",
       "├──────────────────────────────────────┼─────────────────────────────┼─────────────────┤\n",
       "│ max_pooling2d (<span style=\"color: #0087ff; text-decoration-color: #0087ff\">MaxPooling2D</span>)         │ (<span style=\"color: #00d7ff; text-decoration-color: #00d7ff\">None</span>, <span style=\"color: #00af00; text-decoration-color: #00af00\">14</span>, <span style=\"color: #00af00; text-decoration-color: #00af00\">14</span>, <span style=\"color: #00af00; text-decoration-color: #00af00\">32</span>)          │               <span style=\"color: #00af00; text-decoration-color: #00af00\">0</span> │\n",
       "├──────────────────────────────────────┼─────────────────────────────┼─────────────────┤\n",
       "│ conv2d_1 (<span style=\"color: #0087ff; text-decoration-color: #0087ff\">Conv2D</span>)                    │ (<span style=\"color: #00d7ff; text-decoration-color: #00d7ff\">None</span>, <span style=\"color: #00af00; text-decoration-color: #00af00\">14</span>, <span style=\"color: #00af00; text-decoration-color: #00af00\">14</span>, <span style=\"color: #00af00; text-decoration-color: #00af00\">32</span>)          │           <span style=\"color: #00af00; text-decoration-color: #00af00\">9,248</span> │\n",
       "├──────────────────────────────────────┼─────────────────────────────┼─────────────────┤\n",
       "│ max_pooling2d_1 (<span style=\"color: #0087ff; text-decoration-color: #0087ff\">MaxPooling2D</span>)       │ (<span style=\"color: #00d7ff; text-decoration-color: #00d7ff\">None</span>, <span style=\"color: #00af00; text-decoration-color: #00af00\">7</span>, <span style=\"color: #00af00; text-decoration-color: #00af00\">7</span>, <span style=\"color: #00af00; text-decoration-color: #00af00\">32</span>)            │               <span style=\"color: #00af00; text-decoration-color: #00af00\">0</span> │\n",
       "├──────────────────────────────────────┼─────────────────────────────┼─────────────────┤\n",
       "│ conv2d_2 (<span style=\"color: #0087ff; text-decoration-color: #0087ff\">Conv2D</span>)                    │ (<span style=\"color: #00d7ff; text-decoration-color: #00d7ff\">None</span>, <span style=\"color: #00af00; text-decoration-color: #00af00\">7</span>, <span style=\"color: #00af00; text-decoration-color: #00af00\">7</span>, <span style=\"color: #00af00; text-decoration-color: #00af00\">4</span>)             │           <span style=\"color: #00af00; text-decoration-color: #00af00\">1,156</span> │\n",
       "├──────────────────────────────────────┼─────────────────────────────┼─────────────────┤\n",
       "│ max_pooling2d_2 (<span style=\"color: #0087ff; text-decoration-color: #0087ff\">MaxPooling2D</span>)       │ (<span style=\"color: #00d7ff; text-decoration-color: #00d7ff\">None</span>, <span style=\"color: #00af00; text-decoration-color: #00af00\">4</span>, <span style=\"color: #00af00; text-decoration-color: #00af00\">4</span>, <span style=\"color: #00af00; text-decoration-color: #00af00\">4</span>)             │               <span style=\"color: #00af00; text-decoration-color: #00af00\">0</span> │\n",
       "├──────────────────────────────────────┼─────────────────────────────┼─────────────────┤\n",
       "│ bot (<span style=\"color: #0087ff; text-decoration-color: #0087ff\">Flatten</span>)                        │ (<span style=\"color: #00d7ff; text-decoration-color: #00d7ff\">None</span>, <span style=\"color: #00af00; text-decoration-color: #00af00\">64</span>)                  │               <span style=\"color: #00af00; text-decoration-color: #00af00\">0</span> │\n",
       "└──────────────────────────────────────┴─────────────────────────────┴─────────────────┘\n",
       "</pre>\n"
      ],
      "text/plain": [
       "┏━━━━━━━━━━━━━━━━━━━━━━━━━━━━━━━━━━━━━━┳━━━━━━━━━━━━━━━━━━━━━━━━━━━━━┳━━━━━━━━━━━━━━━━━┓\n",
       "┃\u001b[1m \u001b[0m\u001b[1mLayer (type)                        \u001b[0m\u001b[1m \u001b[0m┃\u001b[1m \u001b[0m\u001b[1mOutput Shape               \u001b[0m\u001b[1m \u001b[0m┃\u001b[1m \u001b[0m\u001b[1m        Param #\u001b[0m\u001b[1m \u001b[0m┃\n",
       "┡━━━━━━━━━━━━━━━━━━━━━━━━━━━━━━━━━━━━━━╇━━━━━━━━━━━━━━━━━━━━━━━━━━━━━╇━━━━━━━━━━━━━━━━━┩\n",
       "│ input_layer (\u001b[38;5;33mInputLayer\u001b[0m)             │ (\u001b[38;5;45mNone\u001b[0m, \u001b[38;5;34m28\u001b[0m, \u001b[38;5;34m28\u001b[0m, \u001b[38;5;34m1\u001b[0m)           │               \u001b[38;5;34m0\u001b[0m │\n",
       "├──────────────────────────────────────┼─────────────────────────────┼─────────────────┤\n",
       "│ conv2d (\u001b[38;5;33mConv2D\u001b[0m)                      │ (\u001b[38;5;45mNone\u001b[0m, \u001b[38;5;34m28\u001b[0m, \u001b[38;5;34m28\u001b[0m, \u001b[38;5;34m32\u001b[0m)          │             \u001b[38;5;34m320\u001b[0m │\n",
       "├──────────────────────────────────────┼─────────────────────────────┼─────────────────┤\n",
       "│ max_pooling2d (\u001b[38;5;33mMaxPooling2D\u001b[0m)         │ (\u001b[38;5;45mNone\u001b[0m, \u001b[38;5;34m14\u001b[0m, \u001b[38;5;34m14\u001b[0m, \u001b[38;5;34m32\u001b[0m)          │               \u001b[38;5;34m0\u001b[0m │\n",
       "├──────────────────────────────────────┼─────────────────────────────┼─────────────────┤\n",
       "│ conv2d_1 (\u001b[38;5;33mConv2D\u001b[0m)                    │ (\u001b[38;5;45mNone\u001b[0m, \u001b[38;5;34m14\u001b[0m, \u001b[38;5;34m14\u001b[0m, \u001b[38;5;34m32\u001b[0m)          │           \u001b[38;5;34m9,248\u001b[0m │\n",
       "├──────────────────────────────────────┼─────────────────────────────┼─────────────────┤\n",
       "│ max_pooling2d_1 (\u001b[38;5;33mMaxPooling2D\u001b[0m)       │ (\u001b[38;5;45mNone\u001b[0m, \u001b[38;5;34m7\u001b[0m, \u001b[38;5;34m7\u001b[0m, \u001b[38;5;34m32\u001b[0m)            │               \u001b[38;5;34m0\u001b[0m │\n",
       "├──────────────────────────────────────┼─────────────────────────────┼─────────────────┤\n",
       "│ conv2d_2 (\u001b[38;5;33mConv2D\u001b[0m)                    │ (\u001b[38;5;45mNone\u001b[0m, \u001b[38;5;34m7\u001b[0m, \u001b[38;5;34m7\u001b[0m, \u001b[38;5;34m4\u001b[0m)             │           \u001b[38;5;34m1,156\u001b[0m │\n",
       "├──────────────────────────────────────┼─────────────────────────────┼─────────────────┤\n",
       "│ max_pooling2d_2 (\u001b[38;5;33mMaxPooling2D\u001b[0m)       │ (\u001b[38;5;45mNone\u001b[0m, \u001b[38;5;34m4\u001b[0m, \u001b[38;5;34m4\u001b[0m, \u001b[38;5;34m4\u001b[0m)             │               \u001b[38;5;34m0\u001b[0m │\n",
       "├──────────────────────────────────────┼─────────────────────────────┼─────────────────┤\n",
       "│ bot (\u001b[38;5;33mFlatten\u001b[0m)                        │ (\u001b[38;5;45mNone\u001b[0m, \u001b[38;5;34m64\u001b[0m)                  │               \u001b[38;5;34m0\u001b[0m │\n",
       "└──────────────────────────────────────┴─────────────────────────────┴─────────────────┘\n"
      ]
     },
     "metadata": {},
     "output_type": "display_data"
    },
    {
     "data": {
      "text/html": [
       "<pre style=\"white-space:pre;overflow-x:auto;line-height:normal;font-family:Menlo,'DejaVu Sans Mono',consolas,'Courier New',monospace\"><span style=\"font-weight: bold\"> Total params: </span><span style=\"color: #00af00; text-decoration-color: #00af00\">10,724</span> (41.89 KB)\n",
       "</pre>\n"
      ],
      "text/plain": [
       "\u001b[1m Total params: \u001b[0m\u001b[38;5;34m10,724\u001b[0m (41.89 KB)\n"
      ]
     },
     "metadata": {},
     "output_type": "display_data"
    },
    {
     "data": {
      "text/html": [
       "<pre style=\"white-space:pre;overflow-x:auto;line-height:normal;font-family:Menlo,'DejaVu Sans Mono',consolas,'Courier New',monospace\"><span style=\"font-weight: bold\"> Trainable params: </span><span style=\"color: #00af00; text-decoration-color: #00af00\">10,724</span> (41.89 KB)\n",
       "</pre>\n"
      ],
      "text/plain": [
       "\u001b[1m Trainable params: \u001b[0m\u001b[38;5;34m10,724\u001b[0m (41.89 KB)\n"
      ]
     },
     "metadata": {},
     "output_type": "display_data"
    },
    {
     "data": {
      "text/html": [
       "<pre style=\"white-space:pre;overflow-x:auto;line-height:normal;font-family:Menlo,'DejaVu Sans Mono',consolas,'Courier New',monospace\"><span style=\"font-weight: bold\"> Non-trainable params: </span><span style=\"color: #00af00; text-decoration-color: #00af00\">0</span> (0.00 B)\n",
       "</pre>\n"
      ],
      "text/plain": [
       "\u001b[1m Non-trainable params: \u001b[0m\u001b[38;5;34m0\u001b[0m (0.00 B)\n"
      ]
     },
     "metadata": {},
     "output_type": "display_data"
    }
   ],
   "source": [
    "au_encoder = Model(inputs=Autoencoder_input , outputs=AE_Conv.get_layer(\"bot\").output,name=\"Encoder\")\n",
    "au_encoder.summary()"
   ]
  },
  {
   "cell_type": "code",
   "execution_count": 8,
   "id": "378bbba1-5c74-4675-bdc2-477cfdb5e3da",
   "metadata": {},
   "outputs": [
    {
     "data": {
      "text/html": [
       "<pre style=\"white-space:pre;overflow-x:auto;line-height:normal;font-family:Menlo,'DejaVu Sans Mono',consolas,'Courier New',monospace\"><span style=\"font-weight: bold\">Model: \"Decoder\"</span>\n",
       "</pre>\n"
      ],
      "text/plain": [
       "\u001b[1mModel: \"Decoder\"\u001b[0m\n"
      ]
     },
     "metadata": {},
     "output_type": "display_data"
    },
    {
     "data": {
      "text/html": [
       "<pre style=\"white-space:pre;overflow-x:auto;line-height:normal;font-family:Menlo,'DejaVu Sans Mono',consolas,'Courier New',monospace\">┏━━━━━━━━━━━━━━━━━━━━━━━━━━━━━━━━━━━━━━┳━━━━━━━━━━━━━━━━━━━━━━━━━━━━━┳━━━━━━━━━━━━━━━━━┓\n",
       "┃<span style=\"font-weight: bold\"> Layer (type)                         </span>┃<span style=\"font-weight: bold\"> Output Shape                </span>┃<span style=\"font-weight: bold\">         Param # </span>┃\n",
       "┡━━━━━━━━━━━━━━━━━━━━━━━━━━━━━━━━━━━━━━╇━━━━━━━━━━━━━━━━━━━━━━━━━━━━━╇━━━━━━━━━━━━━━━━━┩\n",
       "│ input_layer_1 (<span style=\"color: #0087ff; text-decoration-color: #0087ff\">InputLayer</span>)           │ (<span style=\"color: #00d7ff; text-decoration-color: #00d7ff\">None</span>, <span style=\"color: #00af00; text-decoration-color: #00af00\">64</span>)                  │               <span style=\"color: #00af00; text-decoration-color: #00af00\">0</span> │\n",
       "├──────────────────────────────────────┼─────────────────────────────┼─────────────────┤\n",
       "│ bot0 (<span style=\"color: #0087ff; text-decoration-color: #0087ff\">Reshape</span>)                       │ (<span style=\"color: #00d7ff; text-decoration-color: #00d7ff\">None</span>, <span style=\"color: #00af00; text-decoration-color: #00af00\">4</span>, <span style=\"color: #00af00; text-decoration-color: #00af00\">4</span>, <span style=\"color: #00af00; text-decoration-color: #00af00\">4</span>)             │               <span style=\"color: #00af00; text-decoration-color: #00af00\">0</span> │\n",
       "├──────────────────────────────────────┼─────────────────────────────┼─────────────────┤\n",
       "│ bot1 (<span style=\"color: #0087ff; text-decoration-color: #0087ff\">Conv2D</span>)                        │ (<span style=\"color: #00d7ff; text-decoration-color: #00d7ff\">None</span>, <span style=\"color: #00af00; text-decoration-color: #00af00\">4</span>, <span style=\"color: #00af00; text-decoration-color: #00af00\">4</span>, <span style=\"color: #00af00; text-decoration-color: #00af00\">4</span>)             │             <span style=\"color: #00af00; text-decoration-color: #00af00\">148</span> │\n",
       "├──────────────────────────────────────┼─────────────────────────────┼─────────────────┤\n",
       "│ bot2 (<span style=\"color: #0087ff; text-decoration-color: #0087ff\">UpSampling2D</span>)                  │ (<span style=\"color: #00d7ff; text-decoration-color: #00d7ff\">None</span>, <span style=\"color: #00af00; text-decoration-color: #00af00\">8</span>, <span style=\"color: #00af00; text-decoration-color: #00af00\">8</span>, <span style=\"color: #00af00; text-decoration-color: #00af00\">4</span>)             │               <span style=\"color: #00af00; text-decoration-color: #00af00\">0</span> │\n",
       "├──────────────────────────────────────┼─────────────────────────────┼─────────────────┤\n",
       "│ bot3 (<span style=\"color: #0087ff; text-decoration-color: #0087ff\">Conv2D</span>)                        │ (<span style=\"color: #00d7ff; text-decoration-color: #00d7ff\">None</span>, <span style=\"color: #00af00; text-decoration-color: #00af00\">8</span>, <span style=\"color: #00af00; text-decoration-color: #00af00\">8</span>, <span style=\"color: #00af00; text-decoration-color: #00af00\">32</span>)            │           <span style=\"color: #00af00; text-decoration-color: #00af00\">1,184</span> │\n",
       "├──────────────────────────────────────┼─────────────────────────────┼─────────────────┤\n",
       "│ bot4 (<span style=\"color: #0087ff; text-decoration-color: #0087ff\">UpSampling2D</span>)                  │ (<span style=\"color: #00d7ff; text-decoration-color: #00d7ff\">None</span>, <span style=\"color: #00af00; text-decoration-color: #00af00\">16</span>, <span style=\"color: #00af00; text-decoration-color: #00af00\">16</span>, <span style=\"color: #00af00; text-decoration-color: #00af00\">32</span>)          │               <span style=\"color: #00af00; text-decoration-color: #00af00\">0</span> │\n",
       "├──────────────────────────────────────┼─────────────────────────────┼─────────────────┤\n",
       "│ bot5 (<span style=\"color: #0087ff; text-decoration-color: #0087ff\">Conv2D</span>)                        │ (<span style=\"color: #00d7ff; text-decoration-color: #00d7ff\">None</span>, <span style=\"color: #00af00; text-decoration-color: #00af00\">14</span>, <span style=\"color: #00af00; text-decoration-color: #00af00\">14</span>, <span style=\"color: #00af00; text-decoration-color: #00af00\">32</span>)          │           <span style=\"color: #00af00; text-decoration-color: #00af00\">9,248</span> │\n",
       "├──────────────────────────────────────┼─────────────────────────────┼─────────────────┤\n",
       "│ bot6 (<span style=\"color: #0087ff; text-decoration-color: #0087ff\">UpSampling2D</span>)                  │ (<span style=\"color: #00d7ff; text-decoration-color: #00d7ff\">None</span>, <span style=\"color: #00af00; text-decoration-color: #00af00\">28</span>, <span style=\"color: #00af00; text-decoration-color: #00af00\">28</span>, <span style=\"color: #00af00; text-decoration-color: #00af00\">32</span>)          │               <span style=\"color: #00af00; text-decoration-color: #00af00\">0</span> │\n",
       "├──────────────────────────────────────┼─────────────────────────────┼─────────────────┤\n",
       "│ bot7 (<span style=\"color: #0087ff; text-decoration-color: #0087ff\">Conv2D</span>)                        │ (<span style=\"color: #00d7ff; text-decoration-color: #00d7ff\">None</span>, <span style=\"color: #00af00; text-decoration-color: #00af00\">28</span>, <span style=\"color: #00af00; text-decoration-color: #00af00\">28</span>, <span style=\"color: #00af00; text-decoration-color: #00af00\">1</span>)           │             <span style=\"color: #00af00; text-decoration-color: #00af00\">289</span> │\n",
       "└──────────────────────────────────────┴─────────────────────────────┴─────────────────┘\n",
       "</pre>\n"
      ],
      "text/plain": [
       "┏━━━━━━━━━━━━━━━━━━━━━━━━━━━━━━━━━━━━━━┳━━━━━━━━━━━━━━━━━━━━━━━━━━━━━┳━━━━━━━━━━━━━━━━━┓\n",
       "┃\u001b[1m \u001b[0m\u001b[1mLayer (type)                        \u001b[0m\u001b[1m \u001b[0m┃\u001b[1m \u001b[0m\u001b[1mOutput Shape               \u001b[0m\u001b[1m \u001b[0m┃\u001b[1m \u001b[0m\u001b[1m        Param #\u001b[0m\u001b[1m \u001b[0m┃\n",
       "┡━━━━━━━━━━━━━━━━━━━━━━━━━━━━━━━━━━━━━━╇━━━━━━━━━━━━━━━━━━━━━━━━━━━━━╇━━━━━━━━━━━━━━━━━┩\n",
       "│ input_layer_1 (\u001b[38;5;33mInputLayer\u001b[0m)           │ (\u001b[38;5;45mNone\u001b[0m, \u001b[38;5;34m64\u001b[0m)                  │               \u001b[38;5;34m0\u001b[0m │\n",
       "├──────────────────────────────────────┼─────────────────────────────┼─────────────────┤\n",
       "│ bot0 (\u001b[38;5;33mReshape\u001b[0m)                       │ (\u001b[38;5;45mNone\u001b[0m, \u001b[38;5;34m4\u001b[0m, \u001b[38;5;34m4\u001b[0m, \u001b[38;5;34m4\u001b[0m)             │               \u001b[38;5;34m0\u001b[0m │\n",
       "├──────────────────────────────────────┼─────────────────────────────┼─────────────────┤\n",
       "│ bot1 (\u001b[38;5;33mConv2D\u001b[0m)                        │ (\u001b[38;5;45mNone\u001b[0m, \u001b[38;5;34m4\u001b[0m, \u001b[38;5;34m4\u001b[0m, \u001b[38;5;34m4\u001b[0m)             │             \u001b[38;5;34m148\u001b[0m │\n",
       "├──────────────────────────────────────┼─────────────────────────────┼─────────────────┤\n",
       "│ bot2 (\u001b[38;5;33mUpSampling2D\u001b[0m)                  │ (\u001b[38;5;45mNone\u001b[0m, \u001b[38;5;34m8\u001b[0m, \u001b[38;5;34m8\u001b[0m, \u001b[38;5;34m4\u001b[0m)             │               \u001b[38;5;34m0\u001b[0m │\n",
       "├──────────────────────────────────────┼─────────────────────────────┼─────────────────┤\n",
       "│ bot3 (\u001b[38;5;33mConv2D\u001b[0m)                        │ (\u001b[38;5;45mNone\u001b[0m, \u001b[38;5;34m8\u001b[0m, \u001b[38;5;34m8\u001b[0m, \u001b[38;5;34m32\u001b[0m)            │           \u001b[38;5;34m1,184\u001b[0m │\n",
       "├──────────────────────────────────────┼─────────────────────────────┼─────────────────┤\n",
       "│ bot4 (\u001b[38;5;33mUpSampling2D\u001b[0m)                  │ (\u001b[38;5;45mNone\u001b[0m, \u001b[38;5;34m16\u001b[0m, \u001b[38;5;34m16\u001b[0m, \u001b[38;5;34m32\u001b[0m)          │               \u001b[38;5;34m0\u001b[0m │\n",
       "├──────────────────────────────────────┼─────────────────────────────┼─────────────────┤\n",
       "│ bot5 (\u001b[38;5;33mConv2D\u001b[0m)                        │ (\u001b[38;5;45mNone\u001b[0m, \u001b[38;5;34m14\u001b[0m, \u001b[38;5;34m14\u001b[0m, \u001b[38;5;34m32\u001b[0m)          │           \u001b[38;5;34m9,248\u001b[0m │\n",
       "├──────────────────────────────────────┼─────────────────────────────┼─────────────────┤\n",
       "│ bot6 (\u001b[38;5;33mUpSampling2D\u001b[0m)                  │ (\u001b[38;5;45mNone\u001b[0m, \u001b[38;5;34m28\u001b[0m, \u001b[38;5;34m28\u001b[0m, \u001b[38;5;34m32\u001b[0m)          │               \u001b[38;5;34m0\u001b[0m │\n",
       "├──────────────────────────────────────┼─────────────────────────────┼─────────────────┤\n",
       "│ bot7 (\u001b[38;5;33mConv2D\u001b[0m)                        │ (\u001b[38;5;45mNone\u001b[0m, \u001b[38;5;34m28\u001b[0m, \u001b[38;5;34m28\u001b[0m, \u001b[38;5;34m1\u001b[0m)           │             \u001b[38;5;34m289\u001b[0m │\n",
       "└──────────────────────────────────────┴─────────────────────────────┴─────────────────┘\n"
      ]
     },
     "metadata": {},
     "output_type": "display_data"
    },
    {
     "data": {
      "text/html": [
       "<pre style=\"white-space:pre;overflow-x:auto;line-height:normal;font-family:Menlo,'DejaVu Sans Mono',consolas,'Courier New',monospace\"><span style=\"font-weight: bold\"> Total params: </span><span style=\"color: #00af00; text-decoration-color: #00af00\">10,869</span> (42.46 KB)\n",
       "</pre>\n"
      ],
      "text/plain": [
       "\u001b[1m Total params: \u001b[0m\u001b[38;5;34m10,869\u001b[0m (42.46 KB)\n"
      ]
     },
     "metadata": {},
     "output_type": "display_data"
    },
    {
     "data": {
      "text/html": [
       "<pre style=\"white-space:pre;overflow-x:auto;line-height:normal;font-family:Menlo,'DejaVu Sans Mono',consolas,'Courier New',monospace\"><span style=\"font-weight: bold\"> Trainable params: </span><span style=\"color: #00af00; text-decoration-color: #00af00\">10,869</span> (42.46 KB)\n",
       "</pre>\n"
      ],
      "text/plain": [
       "\u001b[1m Trainable params: \u001b[0m\u001b[38;5;34m10,869\u001b[0m (42.46 KB)\n"
      ]
     },
     "metadata": {},
     "output_type": "display_data"
    },
    {
     "data": {
      "text/html": [
       "<pre style=\"white-space:pre;overflow-x:auto;line-height:normal;font-family:Menlo,'DejaVu Sans Mono',consolas,'Courier New',monospace\"><span style=\"font-weight: bold\"> Non-trainable params: </span><span style=\"color: #00af00; text-decoration-color: #00af00\">0</span> (0.00 B)\n",
       "</pre>\n"
      ],
      "text/plain": [
       "\u001b[1m Non-trainable params: \u001b[0m\u001b[38;5;34m0\u001b[0m (0.00 B)\n"
      ]
     },
     "metadata": {},
     "output_type": "display_data"
    }
   ],
   "source": [
    "de_input = Input(shape=(64,))\n",
    "de_out = AE_Conv.get_layer(\"bot0\")(de_input)\n",
    "for i in range(1,8):\n",
    "    st = f\"bot{i}\"\n",
    "    de_out = AE_Conv.get_layer(st)(de_out)\n",
    "\n",
    "au_decoder = Model(inputs=de_input , outputs=de_out , name=\"Decoder\")\n",
    "au_decoder.summary()"
   ]
  },
  {
   "cell_type": "code",
   "execution_count": 9,
   "id": "cc2eff5e-b089-4c06-9e48-c2bd73fe783e",
   "metadata": {},
   "outputs": [
    {
     "name": "stdout",
     "output_type": "stream",
     "text": [
      "New Shape of X_train: (60000, 28, 28, 1)\n",
      "New Shape of X_test: (10000, 28, 28, 1)\n"
     ]
    }
   ],
   "source": [
    "X_train = X_train.reshape(X_train.shape[0], 28 , 28, 1)\n",
    "X_test = X_test.reshape(X_test.shape[0], 28, 28, 1)\n",
    "\n",
    "print(f\"New Shape of X_train: {X_train.shape}\")\n",
    "print(f\"New Shape of X_test: {X_test.shape}\")"
   ]
  },
  {
   "cell_type": "code",
   "execution_count": 10,
   "id": "7be7c6f6-4bac-4430-92f0-c3d1db9ec5d8",
   "metadata": {},
   "outputs": [
    {
     "name": "stdout",
     "output_type": "stream",
     "text": [
      "Epoch 1/100\n",
      "53/53 - 41s - 782ms/step - accuracy: 0.8065 - loss: 0.3607 - val_accuracy: 0.7946 - val_loss: 0.2560\n",
      "Epoch 2/100\n",
      "53/53 - 42s - 801ms/step - accuracy: 0.7880 - loss: 0.2357 - val_accuracy: 0.8042 - val_loss: 0.2300\n",
      "Epoch 3/100\n",
      "53/53 - 37s - 691ms/step - accuracy: 0.7894 - loss: 0.2167 - val_accuracy: 0.7910 - val_loss: 0.2060\n",
      "Epoch 4/100\n",
      "53/53 - 35s - 660ms/step - accuracy: 0.7903 - loss: 0.2075 - val_accuracy: 0.7916 - val_loss: 0.1992\n",
      "Epoch 5/100\n",
      "53/53 - 39s - 731ms/step - accuracy: 0.7910 - loss: 0.2014 - val_accuracy: 0.8029 - val_loss: 0.2004\n",
      "Epoch 6/100\n",
      "53/53 - 37s - 701ms/step - accuracy: 0.7926 - loss: 0.1939 - val_accuracy: 0.7920 - val_loss: 0.1893\n",
      "Epoch 7/100\n",
      "53/53 - 34s - 646ms/step - accuracy: 0.7929 - loss: 0.1897 - val_accuracy: 0.8034 - val_loss: 0.1911\n",
      "Epoch 8/100\n",
      "53/53 - 34s - 644ms/step - accuracy: 0.7941 - loss: 0.1839 - val_accuracy: 0.8011 - val_loss: 0.1872\n",
      "Epoch 9/100\n",
      "53/53 - 34s - 646ms/step - accuracy: 0.7940 - loss: 0.1819 - val_accuracy: 0.8040 - val_loss: 0.1849\n",
      "Epoch 10/100\n",
      "53/53 - 34s - 634ms/step - accuracy: 0.7950 - loss: 0.1785 - val_accuracy: 0.8021 - val_loss: 0.1766\n",
      "Epoch 11/100\n",
      "53/53 - 34s - 640ms/step - accuracy: 0.7954 - loss: 0.1765 - val_accuracy: 0.8034 - val_loss: 0.1765\n",
      "Epoch 12/100\n",
      "53/53 - 34s - 640ms/step - accuracy: 0.7961 - loss: 0.1732 - val_accuracy: 0.8033 - val_loss: 0.1723\n",
      "Epoch 13/100\n",
      "53/53 - 35s - 659ms/step - accuracy: 0.7965 - loss: 0.1714 - val_accuracy: 0.8037 - val_loss: 0.1706\n",
      "Epoch 14/100\n",
      "53/53 - 34s - 641ms/step - accuracy: 0.7969 - loss: 0.1695 - val_accuracy: 0.8038 - val_loss: 0.1685\n",
      "Epoch 15/100\n",
      "53/53 - 32s - 603ms/step - accuracy: 0.7973 - loss: 0.1678 - val_accuracy: 0.8040 - val_loss: 0.1668\n",
      "Epoch 16/100\n",
      "53/53 - 32s - 605ms/step - accuracy: 0.7977 - loss: 0.1661 - val_accuracy: 0.8043 - val_loss: 0.1655\n",
      "Epoch 17/100\n",
      "53/53 - 32s - 600ms/step - accuracy: 0.7981 - loss: 0.1646 - val_accuracy: 0.8046 - val_loss: 0.1641\n",
      "Epoch 18/100\n",
      "53/53 - 32s - 603ms/step - accuracy: 0.7984 - loss: 0.1632 - val_accuracy: 0.8050 - val_loss: 0.1635\n",
      "Epoch 19/100\n",
      "53/53 - 32s - 604ms/step - accuracy: 0.7987 - loss: 0.1620 - val_accuracy: 0.8054 - val_loss: 0.1630\n",
      "Epoch 20/100\n",
      "53/53 - 32s - 599ms/step - accuracy: 0.7990 - loss: 0.1607 - val_accuracy: 0.8058 - val_loss: 0.1626\n",
      "Epoch 21/100\n",
      "53/53 - 32s - 606ms/step - accuracy: 0.7993 - loss: 0.1596 - val_accuracy: 0.8061 - val_loss: 0.1625\n",
      "Epoch 22/100\n",
      "53/53 - 33s - 615ms/step - accuracy: 0.7996 - loss: 0.1585 - val_accuracy: 0.8064 - val_loss: 0.1620\n",
      "Epoch 23/100\n",
      "53/53 - 34s - 641ms/step - accuracy: 0.7998 - loss: 0.1574 - val_accuracy: 0.8065 - val_loss: 0.1609\n",
      "Epoch 24/100\n",
      "53/53 - 36s - 671ms/step - accuracy: 0.8001 - loss: 0.1564 - val_accuracy: 0.8066 - val_loss: 0.1600\n",
      "Epoch 25/100\n",
      "53/53 - 29s - 541ms/step - accuracy: 0.8003 - loss: 0.1554 - val_accuracy: 0.8068 - val_loss: 0.1590\n",
      "Epoch 26/100\n",
      "53/53 - 28s - 536ms/step - accuracy: 0.8006 - loss: 0.1545 - val_accuracy: 0.8069 - val_loss: 0.1580\n",
      "Epoch 27/100\n",
      "53/53 - 33s - 629ms/step - accuracy: 0.8008 - loss: 0.1537 - val_accuracy: 0.8070 - val_loss: 0.1573\n",
      "Epoch 28/100\n",
      "53/53 - 33s - 622ms/step - accuracy: 0.8010 - loss: 0.1528 - val_accuracy: 0.8072 - val_loss: 0.1565\n",
      "Epoch 29/100\n",
      "53/53 - 33s - 630ms/step - accuracy: 0.8012 - loss: 0.1520 - val_accuracy: 0.8073 - val_loss: 0.1557\n",
      "Epoch 30/100\n",
      "53/53 - 33s - 629ms/step - accuracy: 0.8014 - loss: 0.1513 - val_accuracy: 0.8074 - val_loss: 0.1548\n",
      "Epoch 31/100\n",
      "53/53 - 33s - 626ms/step - accuracy: 0.8016 - loss: 0.1505 - val_accuracy: 0.8074 - val_loss: 0.1540\n",
      "Epoch 32/100\n",
      "53/53 - 33s - 625ms/step - accuracy: 0.8017 - loss: 0.1498 - val_accuracy: 0.8075 - val_loss: 0.1531\n",
      "Epoch 33/100\n",
      "53/53 - 35s - 658ms/step - accuracy: 0.8019 - loss: 0.1492 - val_accuracy: 0.8076 - val_loss: 0.1523\n",
      "Epoch 34/100\n",
      "53/53 - 27s - 514ms/step - accuracy: 0.8021 - loss: 0.1485 - val_accuracy: 0.8077 - val_loss: 0.1516\n",
      "Epoch 35/100\n",
      "53/53 - 28s - 523ms/step - accuracy: 0.8022 - loss: 0.1479 - val_accuracy: 0.8078 - val_loss: 0.1509\n",
      "Epoch 36/100\n",
      "53/53 - 27s - 519ms/step - accuracy: 0.8024 - loss: 0.1473 - val_accuracy: 0.8078 - val_loss: 0.1502\n",
      "Epoch 37/100\n",
      "53/53 - 30s - 573ms/step - accuracy: 0.8025 - loss: 0.1467 - val_accuracy: 0.8079 - val_loss: 0.1494\n",
      "Epoch 38/100\n",
      "53/53 - 28s - 523ms/step - accuracy: 0.8027 - loss: 0.1461 - val_accuracy: 0.8080 - val_loss: 0.1488\n",
      "Epoch 39/100\n",
      "53/53 - 31s - 580ms/step - accuracy: 0.8028 - loss: 0.1456 - val_accuracy: 0.8080 - val_loss: 0.1481\n",
      "Epoch 40/100\n",
      "53/53 - 33s - 618ms/step - accuracy: 0.8029 - loss: 0.1451 - val_accuracy: 0.8081 - val_loss: 0.1475\n",
      "Epoch 41/100\n",
      "53/53 - 33s - 616ms/step - accuracy: 0.8030 - loss: 0.1446 - val_accuracy: 0.8081 - val_loss: 0.1468\n",
      "Epoch 42/100\n",
      "53/53 - 33s - 617ms/step - accuracy: 0.8032 - loss: 0.1441 - val_accuracy: 0.8082 - val_loss: 0.1462\n",
      "Epoch 43/100\n",
      "53/53 - 33s - 616ms/step - accuracy: 0.8033 - loss: 0.1437 - val_accuracy: 0.8083 - val_loss: 0.1457\n",
      "Epoch 44/100\n",
      "53/53 - 34s - 634ms/step - accuracy: 0.8034 - loss: 0.1432 - val_accuracy: 0.8083 - val_loss: 0.1451\n",
      "Epoch 45/100\n",
      "53/53 - 27s - 502ms/step - accuracy: 0.8035 - loss: 0.1428 - val_accuracy: 0.8084 - val_loss: 0.1446\n",
      "Epoch 46/100\n",
      "53/53 - 36s - 685ms/step - accuracy: 0.8036 - loss: 0.1424 - val_accuracy: 0.8084 - val_loss: 0.1442\n",
      "Epoch 47/100\n",
      "53/53 - 33s - 622ms/step - accuracy: 0.8037 - loss: 0.1420 - val_accuracy: 0.8085 - val_loss: 0.1437\n",
      "Epoch 48/100\n",
      "53/53 - 33s - 626ms/step - accuracy: 0.8038 - loss: 0.1416 - val_accuracy: 0.8085 - val_loss: 0.1432\n",
      "Epoch 49/100\n",
      "53/53 - 34s - 636ms/step - accuracy: 0.8039 - loss: 0.1412 - val_accuracy: 0.8086 - val_loss: 0.1427\n",
      "Epoch 50/100\n",
      "53/53 - 33s - 615ms/step - accuracy: 0.8040 - loss: 0.1408 - val_accuracy: 0.8086 - val_loss: 0.1423\n",
      "Epoch 51/100\n",
      "53/53 - 32s - 600ms/step - accuracy: 0.8041 - loss: 0.1405 - val_accuracy: 0.8087 - val_loss: 0.1419\n",
      "Epoch 52/100\n",
      "53/53 - 33s - 616ms/step - accuracy: 0.8042 - loss: 0.1401 - val_accuracy: 0.8088 - val_loss: 0.1415\n",
      "Epoch 53/100\n",
      "53/53 - 34s - 645ms/step - accuracy: 0.8043 - loss: 0.1397 - val_accuracy: 0.8088 - val_loss: 0.1411\n",
      "Epoch 54/100\n",
      "53/53 - 33s - 616ms/step - accuracy: 0.8044 - loss: 0.1394 - val_accuracy: 0.8089 - val_loss: 0.1408\n",
      "Epoch 55/100\n",
      "53/53 - 32s - 608ms/step - accuracy: 0.8045 - loss: 0.1391 - val_accuracy: 0.8089 - val_loss: 0.1404\n",
      "Epoch 56/100\n",
      "53/53 - 33s - 617ms/step - accuracy: 0.8046 - loss: 0.1388 - val_accuracy: 0.8090 - val_loss: 0.1400\n",
      "Epoch 57/100\n",
      "53/53 - 30s - 574ms/step - accuracy: 0.8047 - loss: 0.1384 - val_accuracy: 0.8090 - val_loss: 0.1396\n",
      "Epoch 58/100\n",
      "53/53 - 25s - 470ms/step - accuracy: 0.8048 - loss: 0.1381 - val_accuracy: 0.8091 - val_loss: 0.1393\n",
      "Epoch 59/100\n",
      "53/53 - 25s - 465ms/step - accuracy: 0.8049 - loss: 0.1378 - val_accuracy: 0.8092 - val_loss: 0.1390\n",
      "Epoch 60/100\n",
      "53/53 - 25s - 466ms/step - accuracy: 0.8050 - loss: 0.1375 - val_accuracy: 0.8092 - val_loss: 0.1387\n",
      "Epoch 61/100\n",
      "53/53 - 25s - 468ms/step - accuracy: 0.8051 - loss: 0.1371 - val_accuracy: 0.8093 - val_loss: 0.1384\n",
      "Epoch 62/100\n",
      "53/53 - 24s - 460ms/step - accuracy: 0.8051 - loss: 0.1368 - val_accuracy: 0.8093 - val_loss: 0.1381\n",
      "Epoch 63/100\n",
      "53/53 - 25s - 467ms/step - accuracy: 0.8052 - loss: 0.1365 - val_accuracy: 0.8094 - val_loss: 0.1378\n",
      "Epoch 64/100\n",
      "53/53 - 26s - 495ms/step - accuracy: 0.8053 - loss: 0.1362 - val_accuracy: 0.8094 - val_loss: 0.1375\n",
      "Epoch 65/100\n",
      "53/53 - 32s - 606ms/step - accuracy: 0.8054 - loss: 0.1359 - val_accuracy: 0.8095 - val_loss: 0.1372\n",
      "Epoch 66/100\n",
      "53/53 - 32s - 601ms/step - accuracy: 0.8055 - loss: 0.1356 - val_accuracy: 0.8096 - val_loss: 0.1369\n",
      "Epoch 67/100\n",
      "53/53 - 32s - 599ms/step - accuracy: 0.8056 - loss: 0.1354 - val_accuracy: 0.8096 - val_loss: 0.1367\n",
      "Epoch 68/100\n",
      "53/53 - 32s - 598ms/step - accuracy: 0.8056 - loss: 0.1351 - val_accuracy: 0.8097 - val_loss: 0.1364\n",
      "Epoch 69/100\n",
      "53/53 - 32s - 597ms/step - accuracy: 0.8057 - loss: 0.1348 - val_accuracy: 0.8097 - val_loss: 0.1362\n",
      "Epoch 70/100\n",
      "53/53 - 32s - 605ms/step - accuracy: 0.8058 - loss: 0.1345 - val_accuracy: 0.8097 - val_loss: 0.1358\n",
      "Epoch 71/100\n",
      "53/53 - 32s - 601ms/step - accuracy: 0.8059 - loss: 0.1343 - val_accuracy: 0.8098 - val_loss: 0.1356\n",
      "Epoch 72/100\n",
      "53/53 - 32s - 611ms/step - accuracy: 0.8059 - loss: 0.1340 - val_accuracy: 0.8099 - val_loss: 0.1354\n",
      "Epoch 73/100\n",
      "53/53 - 28s - 528ms/step - accuracy: 0.8060 - loss: 0.1338 - val_accuracy: 0.8099 - val_loss: 0.1351\n",
      "Epoch 74/100\n",
      "53/53 - 25s - 478ms/step - accuracy: 0.8061 - loss: 0.1335 - val_accuracy: 0.8100 - val_loss: 0.1348\n",
      "Epoch 75/100\n",
      "53/53 - 24s - 460ms/step - accuracy: 0.8061 - loss: 0.1332 - val_accuracy: 0.8100 - val_loss: 0.1347\n",
      "Epoch 76/100\n",
      "53/53 - 25s - 463ms/step - accuracy: 0.8062 - loss: 0.1330 - val_accuracy: 0.8101 - val_loss: 0.1345\n",
      "Epoch 77/100\n",
      "53/53 - 24s - 461ms/step - accuracy: 0.8062 - loss: 0.1328 - val_accuracy: 0.8101 - val_loss: 0.1341\n",
      "Epoch 78/100\n",
      "53/53 - 24s - 461ms/step - accuracy: 0.8063 - loss: 0.1325 - val_accuracy: 0.8101 - val_loss: 0.1339\n",
      "Epoch 79/100\n",
      "53/53 - 24s - 462ms/step - accuracy: 0.8064 - loss: 0.1323 - val_accuracy: 0.8102 - val_loss: 0.1337\n",
      "Epoch 80/100\n",
      "53/53 - 25s - 463ms/step - accuracy: 0.8064 - loss: 0.1320 - val_accuracy: 0.8102 - val_loss: 0.1334\n",
      "Epoch 81/100\n",
      "53/53 - 25s - 465ms/step - accuracy: 0.8065 - loss: 0.1318 - val_accuracy: 0.8102 - val_loss: 0.1331\n",
      "Epoch 82/100\n",
      "53/53 - 25s - 468ms/step - accuracy: 0.8066 - loss: 0.1316 - val_accuracy: 0.8102 - val_loss: 0.1329\n",
      "Epoch 83/100\n",
      "53/53 - 31s - 579ms/step - accuracy: 0.8066 - loss: 0.1313 - val_accuracy: 0.8103 - val_loss: 0.1327\n",
      "Epoch 84/100\n",
      "53/53 - 40s - 751ms/step - accuracy: 0.8067 - loss: 0.1311 - val_accuracy: 0.8103 - val_loss: 0.1325\n",
      "Epoch 85/100\n",
      "53/53 - 41s - 783ms/step - accuracy: 0.8067 - loss: 0.1309 - val_accuracy: 0.8103 - val_loss: 0.1323\n",
      "Epoch 86/100\n",
      "53/53 - 33s - 614ms/step - accuracy: 0.8068 - loss: 0.1307 - val_accuracy: 0.8104 - val_loss: 0.1320\n",
      "Epoch 87/100\n",
      "53/53 - 34s - 645ms/step - accuracy: 0.8068 - loss: 0.1305 - val_accuracy: 0.8104 - val_loss: 0.1318\n",
      "Epoch 88/100\n",
      "53/53 - 34s - 638ms/step - accuracy: 0.8069 - loss: 0.1302 - val_accuracy: 0.8104 - val_loss: 0.1316\n",
      "Epoch 89/100\n",
      "53/53 - 31s - 588ms/step - accuracy: 0.8069 - loss: 0.1300 - val_accuracy: 0.8104 - val_loss: 0.1313\n",
      "Epoch 90/100\n",
      "53/53 - 33s - 616ms/step - accuracy: 0.8070 - loss: 0.1298 - val_accuracy: 0.8104 - val_loss: 0.1311\n",
      "Epoch 91/100\n",
      "53/53 - 32s - 595ms/step - accuracy: 0.8070 - loss: 0.1296 - val_accuracy: 0.8105 - val_loss: 0.1309\n",
      "Epoch 92/100\n",
      "53/53 - 27s - 508ms/step - accuracy: 0.8071 - loss: 0.1294 - val_accuracy: 0.8105 - val_loss: 0.1308\n",
      "Epoch 93/100\n",
      "53/53 - 26s - 482ms/step - accuracy: 0.8071 - loss: 0.1292 - val_accuracy: 0.8105 - val_loss: 0.1306\n",
      "Epoch 94/100\n",
      "53/53 - 27s - 514ms/step - accuracy: 0.8072 - loss: 0.1290 - val_accuracy: 0.8105 - val_loss: 0.1306\n",
      "Epoch 95/100\n",
      "53/53 - 39s - 733ms/step - accuracy: 0.8072 - loss: 0.1288 - val_accuracy: 0.8106 - val_loss: 0.1303\n",
      "Epoch 96/100\n",
      "53/53 - 32s - 605ms/step - accuracy: 0.8073 - loss: 0.1286 - val_accuracy: 0.8106 - val_loss: 0.1302\n",
      "Epoch 97/100\n",
      "53/53 - 29s - 554ms/step - accuracy: 0.8073 - loss: 0.1283 - val_accuracy: 0.8106 - val_loss: 0.1302\n",
      "Epoch 98/100\n",
      "53/53 - 30s - 568ms/step - accuracy: 0.8074 - loss: 0.1282 - val_accuracy: 0.8106 - val_loss: 0.1298\n",
      "Epoch 99/100\n",
      "53/53 - 29s - 549ms/step - accuracy: 0.8074 - loss: 0.1280 - val_accuracy: 0.8107 - val_loss: 0.1298\n",
      "Epoch 100/100\n",
      "53/53 - 29s - 541ms/step - accuracy: 0.8075 - loss: 0.1278 - val_accuracy: 0.8107 - val_loss: 0.1297\n",
      "Time taken by model to train is 52.26 mins\n"
     ]
    }
   ],
   "source": [
    "from time import time\n",
    "\n",
    "tic = time()\n",
    "\n",
    "AE_Conv.fit(X_train,X_train,\n",
    "            epochs=100,\n",
    "            batch_size=1024,\n",
    "            verbose=2,\n",
    "            shuffle=False,validation_split=0.1)\n",
    "toc = time()\n",
    "t = toc-tic\n",
    "print(f\"Time taken by model to train is {t/60:.2f} mins\")"
   ]
  },
  {
   "cell_type": "code",
   "execution_count": 11,
   "id": "c018e1f8-ca15-479c-8183-395c2685ceed",
   "metadata": {},
   "outputs": [
    {
     "name": "stdout",
     "output_type": "stream",
     "text": [
      "\u001b[1m313/313\u001b[0m \u001b[32m━━━━━━━━━━━━━━━━━━━━\u001b[0m\u001b[37m\u001b[0m \u001b[1m3s\u001b[0m 9ms/step\n",
      "\u001b[1m313/313\u001b[0m \u001b[32m━━━━━━━━━━━━━━━━━━━━\u001b[0m\u001b[37m\u001b[0m \u001b[1m5s\u001b[0m 13ms/step\n",
      "The shape of images when are first passed through encoder and then decoder is: (10000, 28, 28, 1)\n"
     ]
    }
   ],
   "source": [
    "img_compressed = au_encoder.predict(X_test)\n",
    "dec_img = au_decoder.predict(img_compressed)\n",
    "print(f\"The shape of images when are first passed through encoder and then decoder is: {dec_img.shape}\")"
   ]
  },
  {
   "cell_type": "code",
   "execution_count": 12,
   "id": "0fcf4c8f-8093-4069-bbb9-6228833001c7",
   "metadata": {},
   "outputs": [
    {
     "data": {
      "image/png": "[encoded data removed]",
      "text/plain": [
       "<Figure size 2000x400 with 20 Axes>"
      ]
     },
     "metadata": {},
     "output_type": "display_data"
    }
   ],
   "source": [
    "n=10\n",
    "k=12\n",
    "plt.figure(figsize=(20,4))\n",
    "\n",
    "for i in range(n):\n",
    "    ax = plt.subplot(2,n,i+1)\n",
    "    plt.imshow(X_test[i*k].reshape(28,28))\n",
    "    plt.gray()\n",
    "    ax.get_xaxis().set_visible(False)\n",
    "    ax.get_yaxis().set_visible(False)\n",
    "\n",
    "    ax = plt.subplot(2,n,i+1+n)\n",
    "    plt.imshow(dec_img[i*k].reshape(28,28))\n",
    "    plt.gray()\n",
    "    ax.get_xaxis().set_visible(False)\n",
    "    ax.get_yaxis().set_visible(False)\n",
    "\n",
    "plt.show()"
   ]
  },
  {
   "cell_type": "code",
   "execution_count": 13,
   "id": "fe39f144-45dd-4dcc-b297-c11b0b373900",
   "metadata": {},
   "outputs": [
    {
     "name": "stdout",
     "output_type": "stream",
     "text": [
      "\u001b[1m313/313\u001b[0m \u001b[32m━━━━━━━━━━━━━━━━━━━━\u001b[0m\u001b[37m\u001b[0m \u001b[1m5s\u001b[0m 15ms/step\n",
      "The shape of generated images from AutoEncoders is: (10000, 28, 28, 1)\n"
     ]
    }
   ],
   "source": [
    "au_img = AE_Conv.predict(X_test)\n",
    "print(f\"The shape of generated images from AutoEncoders is: {au_img.shape}\")"
   ]
  },
  {
   "cell_type": "code",
   "execution_count": 14,
   "id": "7ba4952b-2f4e-44e8-98b9-88384a7dab91",
   "metadata": {
    "scrolled": true
   },
   "outputs": [
    {
     "data": {
      "image/png": "[encoded data removed]",
      "text/plain": [
       "<Figure size 2000x400 with 20 Axes>"
      ]
     },
     "metadata": {},
     "output_type": "display_data"
    }
   ],
   "source": [
    "n=10\n",
    "k=13\n",
    "plt.figure(figsize=(20,4))\n",
    "\n",
    "for i in range(n):\n",
    "    ax = plt.subplot(2,n,i+1)\n",
    "    plt.imshow(X_test[i*k].reshape(28,28))\n",
    "    plt.gray()\n",
    "    ax.get_xaxis().set_visible(False)\n",
    "    ax.get_yaxis().set_visible(False)\n",
    "\n",
    "    ax = plt.subplot(2,n,i+1+n)\n",
    "    plt.imshow(au_img[i*k].reshape(28,28))\n",
    "    plt.gray()\n",
    "    ax.get_xaxis().set_visible(False)\n",
    "    ax.get_yaxis().set_visible(False)\n",
    "\n",
    "plt.show()"
   ]
  },
  {
   "cell_type": "code",
   "execution_count": 15,
   "id": "e60ff36d-198d-4918-ad42-7bf39ee9e6a3",
   "metadata": {},
   "outputs": [
    {
     "name": "stdout",
     "output_type": "stream",
     "text": [
      "(60000, 28, 28, 1)\n",
      "(10000, 28, 28, 1)\n"
     ]
    }
   ],
   "source": [
    "print(X_train.shape)\n",
    "print(X_test.shape)"
   ]
  },
  {
   "cell_type": "code",
   "execution_count": 18,
   "id": "600d5dd8-8630-4d76-91ff-43233971c78d",
   "metadata": {},
   "outputs": [
    {
     "name": "stdout",
     "output_type": "stream",
     "text": [
      "Shape of X_train_noisy: (60000, 28, 28, 1)\n",
      "Shape of X_test_noisy: (10000, 28, 28, 1)\n"
     ]
    }
   ],
   "source": [
    "noise = 0.5\n",
    "X_train_noisy = X_train + noise * np.random.normal(loc=0.0 , scale=1.0 , size=X_train.shape)\n",
    "X_test_noisy = X_test + noise * np.random.normal(loc=0.0 , scale=1.0 , size=X_test.shape)\n",
    "\n",
    "X_train_noisy = np.clip(X_train_noisy, 0., 1.)\n",
    "Y_test_noisy = np.clip(X_test_noisy, 0., 1.)\n",
    "\n",
    "print(f\"Shape of X_train_noisy: {X_train_noisy.shape}\")\n",
    "print(f\"Shape of X_test_noisy: {X_test_noisy.shape}\")"
   ]
  },
  {
   "cell_type": "code",
   "execution_count": 19,
   "id": "2b4184e3-c04a-4751-ba48-72ce6695690e",
   "metadata": {},
   "outputs": [
    {
     "data": {
      "image/png": "[encoded data removed]",
      "text/plain": [
       "<Figure size 2000x400 with 10 Axes>"
      ]
     },
     "metadata": {},
     "output_type": "display_data"
    }
   ],
   "source": [
    "n=10\n",
    "plt.figure(figsize=(20,4))\n",
    "for i in range(n):\n",
    "    ax = plt.subplot(2,n,i+1)\n",
    "    plt.imshow(X_test_noisy[i].reshape(28,28))\n",
    "    plt.gray()\n",
    "    ax.get_xaxis().set_visible(False)\n",
    "    ax.get_yaxis().set_visible(False)\n",
    "\n",
    "plt.show()\n",
    "plt.close()"
   ]
  },
  {
   "cell_type": "code",
   "execution_count": 20,
   "id": "6e6d190c-ccf9-4e5c-a06b-055dee160a17",
   "metadata": {},
   "outputs": [
    {
     "data": {
      "text/html": [
       "<pre style=\"white-space:pre;overflow-x:auto;line-height:normal;font-family:Menlo,'DejaVu Sans Mono',consolas,'Courier New',monospace\"><span style=\"font-weight: bold\">Model: \"functional_1\"</span>\n",
       "</pre>\n"
      ],
      "text/plain": [
       "\u001b[1mModel: \"functional_1\"\u001b[0m\n"
      ]
     },
     "metadata": {},
     "output_type": "display_data"
    },
    {
     "data": {
      "text/html": [
       "<pre style=\"white-space:pre;overflow-x:auto;line-height:normal;font-family:Menlo,'DejaVu Sans Mono',consolas,'Courier New',monospace\">┏━━━━━━━━━━━━━━━━━━━━━━━━━━━━━━━━━━━━━━┳━━━━━━━━━━━━━━━━━━━━━━━━━━━━━┳━━━━━━━━━━━━━━━━━┓\n",
       "┃<span style=\"font-weight: bold\"> Layer (type)                         </span>┃<span style=\"font-weight: bold\"> Output Shape                </span>┃<span style=\"font-weight: bold\">         Param # </span>┃\n",
       "┡━━━━━━━━━━━━━━━━━━━━━━━━━━━━━━━━━━━━━━╇━━━━━━━━━━━━━━━━━━━━━━━━━━━━━╇━━━━━━━━━━━━━━━━━┩\n",
       "│ input_layer_2 (<span style=\"color: #0087ff; text-decoration-color: #0087ff\">InputLayer</span>)           │ (<span style=\"color: #00d7ff; text-decoration-color: #00d7ff\">None</span>, <span style=\"color: #00af00; text-decoration-color: #00af00\">28</span>, <span style=\"color: #00af00; text-decoration-color: #00af00\">28</span>, <span style=\"color: #00af00; text-decoration-color: #00af00\">1</span>)           │               <span style=\"color: #00af00; text-decoration-color: #00af00\">0</span> │\n",
       "├──────────────────────────────────────┼─────────────────────────────┼─────────────────┤\n",
       "│ conv2d_3 (<span style=\"color: #0087ff; text-decoration-color: #0087ff\">Conv2D</span>)                    │ (<span style=\"color: #00d7ff; text-decoration-color: #00d7ff\">None</span>, <span style=\"color: #00af00; text-decoration-color: #00af00\">28</span>, <span style=\"color: #00af00; text-decoration-color: #00af00\">28</span>, <span style=\"color: #00af00; text-decoration-color: #00af00\">32</span>)          │             <span style=\"color: #00af00; text-decoration-color: #00af00\">320</span> │\n",
       "├──────────────────────────────────────┼─────────────────────────────┼─────────────────┤\n",
       "│ max_pooling2d_3 (<span style=\"color: #0087ff; text-decoration-color: #0087ff\">MaxPooling2D</span>)       │ (<span style=\"color: #00d7ff; text-decoration-color: #00d7ff\">None</span>, <span style=\"color: #00af00; text-decoration-color: #00af00\">14</span>, <span style=\"color: #00af00; text-decoration-color: #00af00\">14</span>, <span style=\"color: #00af00; text-decoration-color: #00af00\">32</span>)          │               <span style=\"color: #00af00; text-decoration-color: #00af00\">0</span> │\n",
       "├──────────────────────────────────────┼─────────────────────────────┼─────────────────┤\n",
       "│ conv2d_4 (<span style=\"color: #0087ff; text-decoration-color: #0087ff\">Conv2D</span>)                    │ (<span style=\"color: #00d7ff; text-decoration-color: #00d7ff\">None</span>, <span style=\"color: #00af00; text-decoration-color: #00af00\">14</span>, <span style=\"color: #00af00; text-decoration-color: #00af00\">14</span>, <span style=\"color: #00af00; text-decoration-color: #00af00\">32</span>)          │           <span style=\"color: #00af00; text-decoration-color: #00af00\">9,248</span> │\n",
       "├──────────────────────────────────────┼─────────────────────────────┼─────────────────┤\n",
       "│ max_pooling2d_4 (<span style=\"color: #0087ff; text-decoration-color: #0087ff\">MaxPooling2D</span>)       │ (<span style=\"color: #00d7ff; text-decoration-color: #00d7ff\">None</span>, <span style=\"color: #00af00; text-decoration-color: #00af00\">7</span>, <span style=\"color: #00af00; text-decoration-color: #00af00\">7</span>, <span style=\"color: #00af00; text-decoration-color: #00af00\">32</span>)            │               <span style=\"color: #00af00; text-decoration-color: #00af00\">0</span> │\n",
       "├──────────────────────────────────────┼─────────────────────────────┼─────────────────┤\n",
       "│ conv2d_5 (<span style=\"color: #0087ff; text-decoration-color: #0087ff\">Conv2D</span>)                    │ (<span style=\"color: #00d7ff; text-decoration-color: #00d7ff\">None</span>, <span style=\"color: #00af00; text-decoration-color: #00af00\">7</span>, <span style=\"color: #00af00; text-decoration-color: #00af00\">7</span>, <span style=\"color: #00af00; text-decoration-color: #00af00\">4</span>)             │           <span style=\"color: #00af00; text-decoration-color: #00af00\">1,156</span> │\n",
       "├──────────────────────────────────────┼─────────────────────────────┼─────────────────┤\n",
       "│ max_pooling2d_5 (<span style=\"color: #0087ff; text-decoration-color: #0087ff\">MaxPooling2D</span>)       │ (<span style=\"color: #00d7ff; text-decoration-color: #00d7ff\">None</span>, <span style=\"color: #00af00; text-decoration-color: #00af00\">4</span>, <span style=\"color: #00af00; text-decoration-color: #00af00\">4</span>, <span style=\"color: #00af00; text-decoration-color: #00af00\">4</span>)             │               <span style=\"color: #00af00; text-decoration-color: #00af00\">0</span> │\n",
       "├──────────────────────────────────────┼─────────────────────────────┼─────────────────┤\n",
       "│ bot (<span style=\"color: #0087ff; text-decoration-color: #0087ff\">Flatten</span>)                        │ (<span style=\"color: #00d7ff; text-decoration-color: #00d7ff\">None</span>, <span style=\"color: #00af00; text-decoration-color: #00af00\">64</span>)                  │               <span style=\"color: #00af00; text-decoration-color: #00af00\">0</span> │\n",
       "├──────────────────────────────────────┼─────────────────────────────┼─────────────────┤\n",
       "│ bot0 (<span style=\"color: #0087ff; text-decoration-color: #0087ff\">Reshape</span>)                       │ (<span style=\"color: #00d7ff; text-decoration-color: #00d7ff\">None</span>, <span style=\"color: #00af00; text-decoration-color: #00af00\">4</span>, <span style=\"color: #00af00; text-decoration-color: #00af00\">4</span>, <span style=\"color: #00af00; text-decoration-color: #00af00\">4</span>)             │               <span style=\"color: #00af00; text-decoration-color: #00af00\">0</span> │\n",
       "├──────────────────────────────────────┼─────────────────────────────┼─────────────────┤\n",
       "│ bot1 (<span style=\"color: #0087ff; text-decoration-color: #0087ff\">Conv2D</span>)                        │ (<span style=\"color: #00d7ff; text-decoration-color: #00d7ff\">None</span>, <span style=\"color: #00af00; text-decoration-color: #00af00\">4</span>, <span style=\"color: #00af00; text-decoration-color: #00af00\">4</span>, <span style=\"color: #00af00; text-decoration-color: #00af00\">4</span>)             │             <span style=\"color: #00af00; text-decoration-color: #00af00\">148</span> │\n",
       "├──────────────────────────────────────┼─────────────────────────────┼─────────────────┤\n",
       "│ bot2 (<span style=\"color: #0087ff; text-decoration-color: #0087ff\">UpSampling2D</span>)                  │ (<span style=\"color: #00d7ff; text-decoration-color: #00d7ff\">None</span>, <span style=\"color: #00af00; text-decoration-color: #00af00\">8</span>, <span style=\"color: #00af00; text-decoration-color: #00af00\">8</span>, <span style=\"color: #00af00; text-decoration-color: #00af00\">4</span>)             │               <span style=\"color: #00af00; text-decoration-color: #00af00\">0</span> │\n",
       "├──────────────────────────────────────┼─────────────────────────────┼─────────────────┤\n",
       "│ bot3 (<span style=\"color: #0087ff; text-decoration-color: #0087ff\">Conv2D</span>)                        │ (<span style=\"color: #00d7ff; text-decoration-color: #00d7ff\">None</span>, <span style=\"color: #00af00; text-decoration-color: #00af00\">8</span>, <span style=\"color: #00af00; text-decoration-color: #00af00\">8</span>, <span style=\"color: #00af00; text-decoration-color: #00af00\">32</span>)            │           <span style=\"color: #00af00; text-decoration-color: #00af00\">1,184</span> │\n",
       "├──────────────────────────────────────┼─────────────────────────────┼─────────────────┤\n",
       "│ bot4 (<span style=\"color: #0087ff; text-decoration-color: #0087ff\">UpSampling2D</span>)                  │ (<span style=\"color: #00d7ff; text-decoration-color: #00d7ff\">None</span>, <span style=\"color: #00af00; text-decoration-color: #00af00\">16</span>, <span style=\"color: #00af00; text-decoration-color: #00af00\">16</span>, <span style=\"color: #00af00; text-decoration-color: #00af00\">32</span>)          │               <span style=\"color: #00af00; text-decoration-color: #00af00\">0</span> │\n",
       "├──────────────────────────────────────┼─────────────────────────────┼─────────────────┤\n",
       "│ bot5 (<span style=\"color: #0087ff; text-decoration-color: #0087ff\">Conv2D</span>)                        │ (<span style=\"color: #00d7ff; text-decoration-color: #00d7ff\">None</span>, <span style=\"color: #00af00; text-decoration-color: #00af00\">14</span>, <span style=\"color: #00af00; text-decoration-color: #00af00\">14</span>, <span style=\"color: #00af00; text-decoration-color: #00af00\">32</span>)          │           <span style=\"color: #00af00; text-decoration-color: #00af00\">9,248</span> │\n",
       "├──────────────────────────────────────┼─────────────────────────────┼─────────────────┤\n",
       "│ bot6 (<span style=\"color: #0087ff; text-decoration-color: #0087ff\">UpSampling2D</span>)                  │ (<span style=\"color: #00d7ff; text-decoration-color: #00d7ff\">None</span>, <span style=\"color: #00af00; text-decoration-color: #00af00\">28</span>, <span style=\"color: #00af00; text-decoration-color: #00af00\">28</span>, <span style=\"color: #00af00; text-decoration-color: #00af00\">32</span>)          │               <span style=\"color: #00af00; text-decoration-color: #00af00\">0</span> │\n",
       "├──────────────────────────────────────┼─────────────────────────────┼─────────────────┤\n",
       "│ bot7 (<span style=\"color: #0087ff; text-decoration-color: #0087ff\">Conv2D</span>)                        │ (<span style=\"color: #00d7ff; text-decoration-color: #00d7ff\">None</span>, <span style=\"color: #00af00; text-decoration-color: #00af00\">28</span>, <span style=\"color: #00af00; text-decoration-color: #00af00\">28</span>, <span style=\"color: #00af00; text-decoration-color: #00af00\">1</span>)           │             <span style=\"color: #00af00; text-decoration-color: #00af00\">289</span> │\n",
       "└──────────────────────────────────────┴─────────────────────────────┴─────────────────┘\n",
       "</pre>\n"
      ],
      "text/plain": [
       "┏━━━━━━━━━━━━━━━━━━━━━━━━━━━━━━━━━━━━━━┳━━━━━━━━━━━━━━━━━━━━━━━━━━━━━┳━━━━━━━━━━━━━━━━━┓\n",
       "┃\u001b[1m \u001b[0m\u001b[1mLayer (type)                        \u001b[0m\u001b[1m \u001b[0m┃\u001b[1m \u001b[0m\u001b[1mOutput Shape               \u001b[0m\u001b[1m \u001b[0m┃\u001b[1m \u001b[0m\u001b[1m        Param #\u001b[0m\u001b[1m \u001b[0m┃\n",
       "┡━━━━━━━━━━━━━━━━━━━━━━━━━━━━━━━━━━━━━━╇━━━━━━━━━━━━━━━━━━━━━━━━━━━━━╇━━━━━━━━━━━━━━━━━┩\n",
       "│ input_layer_2 (\u001b[38;5;33mInputLayer\u001b[0m)           │ (\u001b[38;5;45mNone\u001b[0m, \u001b[38;5;34m28\u001b[0m, \u001b[38;5;34m28\u001b[0m, \u001b[38;5;34m1\u001b[0m)           │               \u001b[38;5;34m0\u001b[0m │\n",
       "├──────────────────────────────────────┼─────────────────────────────┼─────────────────┤\n",
       "│ conv2d_3 (\u001b[38;5;33mConv2D\u001b[0m)                    │ (\u001b[38;5;45mNone\u001b[0m, \u001b[38;5;34m28\u001b[0m, \u001b[38;5;34m28\u001b[0m, \u001b[38;5;34m32\u001b[0m)          │             \u001b[38;5;34m320\u001b[0m │\n",
       "├──────────────────────────────────────┼─────────────────────────────┼─────────────────┤\n",
       "│ max_pooling2d_3 (\u001b[38;5;33mMaxPooling2D\u001b[0m)       │ (\u001b[38;5;45mNone\u001b[0m, \u001b[38;5;34m14\u001b[0m, \u001b[38;5;34m14\u001b[0m, \u001b[38;5;34m32\u001b[0m)          │               \u001b[38;5;34m0\u001b[0m │\n",
       "├──────────────────────────────────────┼─────────────────────────────┼─────────────────┤\n",
       "│ conv2d_4 (\u001b[38;5;33mConv2D\u001b[0m)                    │ (\u001b[38;5;45mNone\u001b[0m, \u001b[38;5;34m14\u001b[0m, \u001b[38;5;34m14\u001b[0m, \u001b[38;5;34m32\u001b[0m)          │           \u001b[38;5;34m9,248\u001b[0m │\n",
       "├──────────────────────────────────────┼─────────────────────────────┼─────────────────┤\n",
       "│ max_pooling2d_4 (\u001b[38;5;33mMaxPooling2D\u001b[0m)       │ (\u001b[38;5;45mNone\u001b[0m, \u001b[38;5;34m7\u001b[0m, \u001b[38;5;34m7\u001b[0m, \u001b[38;5;34m32\u001b[0m)            │               \u001b[38;5;34m0\u001b[0m │\n",
       "├──────────────────────────────────────┼─────────────────────────────┼─────────────────┤\n",
       "│ conv2d_5 (\u001b[38;5;33mConv2D\u001b[0m)                    │ (\u001b[38;5;45mNone\u001b[0m, \u001b[38;5;34m7\u001b[0m, \u001b[38;5;34m7\u001b[0m, \u001b[38;5;34m4\u001b[0m)             │           \u001b[38;5;34m1,156\u001b[0m │\n",
       "├──────────────────────────────────────┼─────────────────────────────┼─────────────────┤\n",
       "│ max_pooling2d_5 (\u001b[38;5;33mMaxPooling2D\u001b[0m)       │ (\u001b[38;5;45mNone\u001b[0m, \u001b[38;5;34m4\u001b[0m, \u001b[38;5;34m4\u001b[0m, \u001b[38;5;34m4\u001b[0m)             │               \u001b[38;5;34m0\u001b[0m │\n",
       "├──────────────────────────────────────┼─────────────────────────────┼─────────────────┤\n",
       "│ bot (\u001b[38;5;33mFlatten\u001b[0m)                        │ (\u001b[38;5;45mNone\u001b[0m, \u001b[38;5;34m64\u001b[0m)                  │               \u001b[38;5;34m0\u001b[0m │\n",
       "├──────────────────────────────────────┼─────────────────────────────┼─────────────────┤\n",
       "│ bot0 (\u001b[38;5;33mReshape\u001b[0m)                       │ (\u001b[38;5;45mNone\u001b[0m, \u001b[38;5;34m4\u001b[0m, \u001b[38;5;34m4\u001b[0m, \u001b[38;5;34m4\u001b[0m)             │               \u001b[38;5;34m0\u001b[0m │\n",
       "├──────────────────────────────────────┼─────────────────────────────┼─────────────────┤\n",
       "│ bot1 (\u001b[38;5;33mConv2D\u001b[0m)                        │ (\u001b[38;5;45mNone\u001b[0m, \u001b[38;5;34m4\u001b[0m, \u001b[38;5;34m4\u001b[0m, \u001b[38;5;34m4\u001b[0m)             │             \u001b[38;5;34m148\u001b[0m │\n",
       "├──────────────────────────────────────┼─────────────────────────────┼─────────────────┤\n",
       "│ bot2 (\u001b[38;5;33mUpSampling2D\u001b[0m)                  │ (\u001b[38;5;45mNone\u001b[0m, \u001b[38;5;34m8\u001b[0m, \u001b[38;5;34m8\u001b[0m, \u001b[38;5;34m4\u001b[0m)             │               \u001b[38;5;34m0\u001b[0m │\n",
       "├──────────────────────────────────────┼─────────────────────────────┼─────────────────┤\n",
       "│ bot3 (\u001b[38;5;33mConv2D\u001b[0m)                        │ (\u001b[38;5;45mNone\u001b[0m, \u001b[38;5;34m8\u001b[0m, \u001b[38;5;34m8\u001b[0m, \u001b[38;5;34m32\u001b[0m)            │           \u001b[38;5;34m1,184\u001b[0m │\n",
       "├──────────────────────────────────────┼─────────────────────────────┼─────────────────┤\n",
       "│ bot4 (\u001b[38;5;33mUpSampling2D\u001b[0m)                  │ (\u001b[38;5;45mNone\u001b[0m, \u001b[38;5;34m16\u001b[0m, \u001b[38;5;34m16\u001b[0m, \u001b[38;5;34m32\u001b[0m)          │               \u001b[38;5;34m0\u001b[0m │\n",
       "├──────────────────────────────────────┼─────────────────────────────┼─────────────────┤\n",
       "│ bot5 (\u001b[38;5;33mConv2D\u001b[0m)                        │ (\u001b[38;5;45mNone\u001b[0m, \u001b[38;5;34m14\u001b[0m, \u001b[38;5;34m14\u001b[0m, \u001b[38;5;34m32\u001b[0m)          │           \u001b[38;5;34m9,248\u001b[0m │\n",
       "├──────────────────────────────────────┼─────────────────────────────┼─────────────────┤\n",
       "│ bot6 (\u001b[38;5;33mUpSampling2D\u001b[0m)                  │ (\u001b[38;5;45mNone\u001b[0m, \u001b[38;5;34m28\u001b[0m, \u001b[38;5;34m28\u001b[0m, \u001b[38;5;34m32\u001b[0m)          │               \u001b[38;5;34m0\u001b[0m │\n",
       "├──────────────────────────────────────┼─────────────────────────────┼─────────────────┤\n",
       "│ bot7 (\u001b[38;5;33mConv2D\u001b[0m)                        │ (\u001b[38;5;45mNone\u001b[0m, \u001b[38;5;34m28\u001b[0m, \u001b[38;5;34m28\u001b[0m, \u001b[38;5;34m1\u001b[0m)           │             \u001b[38;5;34m289\u001b[0m │\n",
       "└──────────────────────────────────────┴─────────────────────────────┴─────────────────┘\n"
      ]
     },
     "metadata": {},
     "output_type": "display_data"
    },
    {
     "data": {
      "text/html": [
       "<pre style=\"white-space:pre;overflow-x:auto;line-height:normal;font-family:Menlo,'DejaVu Sans Mono',consolas,'Courier New',monospace\"><span style=\"font-weight: bold\"> Total params: </span><span style=\"color: #00af00; text-decoration-color: #00af00\">21,593</span> (84.35 KB)\n",
       "</pre>\n"
      ],
      "text/plain": [
       "\u001b[1m Total params: \u001b[0m\u001b[38;5;34m21,593\u001b[0m (84.35 KB)\n"
      ]
     },
     "metadata": {},
     "output_type": "display_data"
    },
    {
     "data": {
      "text/html": [
       "<pre style=\"white-space:pre;overflow-x:auto;line-height:normal;font-family:Menlo,'DejaVu Sans Mono',consolas,'Courier New',monospace\"><span style=\"font-weight: bold\"> Trainable params: </span><span style=\"color: #00af00; text-decoration-color: #00af00\">21,593</span> (84.35 KB)\n",
       "</pre>\n"
      ],
      "text/plain": [
       "\u001b[1m Trainable params: \u001b[0m\u001b[38;5;34m21,593\u001b[0m (84.35 KB)\n"
      ]
     },
     "metadata": {},
     "output_type": "display_data"
    },
    {
     "data": {
      "text/html": [
       "<pre style=\"white-space:pre;overflow-x:auto;line-height:normal;font-family:Menlo,'DejaVu Sans Mono',consolas,'Courier New',monospace\"><span style=\"font-weight: bold\"> Non-trainable params: </span><span style=\"color: #00af00; text-decoration-color: #00af00\">0</span> (0.00 B)\n",
       "</pre>\n"
      ],
      "text/plain": [
       "\u001b[1m Non-trainable params: \u001b[0m\u001b[38;5;34m0\u001b[0m (0.00 B)\n"
      ]
     },
     "metadata": {},
     "output_type": "display_data"
    }
   ],
   "source": [
    "Autoencoder_input = Input(shape=(28,28,1))\n",
    "\n",
    "conv_en = Conv2D(32, (3,3), activation=\"relu\", padding=\"same\", kernel_initializer=\"he_normal\")(Autoencoder_input)\n",
    "conv_en = MaxPooling2D((2,2), padding=\"same\")(conv_en)\n",
    "\n",
    "conv_en = Conv2D(32, (3,3), activation=\"relu\", padding=\"same\")(conv_en)\n",
    "conv_en = MaxPooling2D((2,2), padding=\"same\")(conv_en)\n",
    "\n",
    "conv_en = Conv2D(4, (3,3), activation=\"relu\", padding=\"same\")(conv_en)\n",
    "conv_en = MaxPooling2D((2,2), padding=\"same\")(conv_en)\n",
    "\n",
    "conv_en = Flatten(name=\"bot\")(conv_en)\n",
    "\n",
    "conv_de = Reshape((4,4,4),input_shape=(64,),name=\"bot0\")(conv_en)\n",
    "\n",
    "conv_de = Conv2D(4, (3,3), activation=\"relu\", padding=\"same\",name=\"bot1\")(conv_de)\n",
    "conv_de = UpSampling2D((2,2), name=\"bot2\")(conv_de)\n",
    "\n",
    "conv_de = Conv2D(32, (3,3), activation=\"relu\", padding=\"same\",name=\"bot3\")(conv_de)\n",
    "conv_de = UpSampling2D((2,2), name=\"bot4\")(conv_de)\n",
    "\n",
    "conv_de = Conv2D(32, (3,3), activation=\"relu\", padding=\"valid\",name=\"bot5\")(conv_de)\n",
    "conv_de = UpSampling2D((2,2), name=\"bot6\")(conv_de)\n",
    "\n",
    "conv_de = Conv2D(1, (3,3), activation=\"sigmoid\", padding=\"same\",name=\"bot7\")(conv_de)\n",
    "\n",
    "Noisy_AE = Model(inputs=Autoencoder_input , outputs=conv_de)\n",
    "\n",
    "Noisy_AE.compile(optimizer=tf.keras.optimizers.SGD(0.09,clipvalue=2),loss=\"binary_crossentropy\",metrics=[\"accuracy\"])\n",
    "Noisy_AE.summary()\n"
   ]
  },
  {
   "cell_type": "code",
   "execution_count": 21,
   "id": "e4b80667-23d1-4ef0-ac10-d92f4e71bcbb",
   "metadata": {},
   "outputs": [
    {
     "data": {
      "text/html": [
       "<pre style=\"white-space:pre;overflow-x:auto;line-height:normal;font-family:Menlo,'DejaVu Sans Mono',consolas,'Courier New',monospace\"><span style=\"font-weight: bold\">Model: \"functional_2\"</span>\n",
       "</pre>\n"
      ],
      "text/plain": [
       "\u001b[1mModel: \"functional_2\"\u001b[0m\n"
      ]
     },
     "metadata": {},
     "output_type": "display_data"
    },
    {
     "data": {
      "text/html": [
       "<pre style=\"white-space:pre;overflow-x:auto;line-height:normal;font-family:Menlo,'DejaVu Sans Mono',consolas,'Courier New',monospace\">┏━━━━━━━━━━━━━━━━━━━━━━━━━━━━━━━━━━━━━━┳━━━━━━━━━━━━━━━━━━━━━━━━━━━━━┳━━━━━━━━━━━━━━━━━┓\n",
       "┃<span style=\"font-weight: bold\"> Layer (type)                         </span>┃<span style=\"font-weight: bold\"> Output Shape                </span>┃<span style=\"font-weight: bold\">         Param # </span>┃\n",
       "┡━━━━━━━━━━━━━━━━━━━━━━━━━━━━━━━━━━━━━━╇━━━━━━━━━━━━━━━━━━━━━━━━━━━━━╇━━━━━━━━━━━━━━━━━┩\n",
       "│ input_layer_2 (<span style=\"color: #0087ff; text-decoration-color: #0087ff\">InputLayer</span>)           │ (<span style=\"color: #00d7ff; text-decoration-color: #00d7ff\">None</span>, <span style=\"color: #00af00; text-decoration-color: #00af00\">28</span>, <span style=\"color: #00af00; text-decoration-color: #00af00\">28</span>, <span style=\"color: #00af00; text-decoration-color: #00af00\">1</span>)           │               <span style=\"color: #00af00; text-decoration-color: #00af00\">0</span> │\n",
       "├──────────────────────────────────────┼─────────────────────────────┼─────────────────┤\n",
       "│ conv2d_3 (<span style=\"color: #0087ff; text-decoration-color: #0087ff\">Conv2D</span>)                    │ (<span style=\"color: #00d7ff; text-decoration-color: #00d7ff\">None</span>, <span style=\"color: #00af00; text-decoration-color: #00af00\">28</span>, <span style=\"color: #00af00; text-decoration-color: #00af00\">28</span>, <span style=\"color: #00af00; text-decoration-color: #00af00\">32</span>)          │             <span style=\"color: #00af00; text-decoration-color: #00af00\">320</span> │\n",
       "├──────────────────────────────────────┼─────────────────────────────┼─────────────────┤\n",
       "│ max_pooling2d_3 (<span style=\"color: #0087ff; text-decoration-color: #0087ff\">MaxPooling2D</span>)       │ (<span style=\"color: #00d7ff; text-decoration-color: #00d7ff\">None</span>, <span style=\"color: #00af00; text-decoration-color: #00af00\">14</span>, <span style=\"color: #00af00; text-decoration-color: #00af00\">14</span>, <span style=\"color: #00af00; text-decoration-color: #00af00\">32</span>)          │               <span style=\"color: #00af00; text-decoration-color: #00af00\">0</span> │\n",
       "├──────────────────────────────────────┼─────────────────────────────┼─────────────────┤\n",
       "│ conv2d_4 (<span style=\"color: #0087ff; text-decoration-color: #0087ff\">Conv2D</span>)                    │ (<span style=\"color: #00d7ff; text-decoration-color: #00d7ff\">None</span>, <span style=\"color: #00af00; text-decoration-color: #00af00\">14</span>, <span style=\"color: #00af00; text-decoration-color: #00af00\">14</span>, <span style=\"color: #00af00; text-decoration-color: #00af00\">32</span>)          │           <span style=\"color: #00af00; text-decoration-color: #00af00\">9,248</span> │\n",
       "├──────────────────────────────────────┼─────────────────────────────┼─────────────────┤\n",
       "│ max_pooling2d_4 (<span style=\"color: #0087ff; text-decoration-color: #0087ff\">MaxPooling2D</span>)       │ (<span style=\"color: #00d7ff; text-decoration-color: #00d7ff\">None</span>, <span style=\"color: #00af00; text-decoration-color: #00af00\">7</span>, <span style=\"color: #00af00; text-decoration-color: #00af00\">7</span>, <span style=\"color: #00af00; text-decoration-color: #00af00\">32</span>)            │               <span style=\"color: #00af00; text-decoration-color: #00af00\">0</span> │\n",
       "├──────────────────────────────────────┼─────────────────────────────┼─────────────────┤\n",
       "│ conv2d_5 (<span style=\"color: #0087ff; text-decoration-color: #0087ff\">Conv2D</span>)                    │ (<span style=\"color: #00d7ff; text-decoration-color: #00d7ff\">None</span>, <span style=\"color: #00af00; text-decoration-color: #00af00\">7</span>, <span style=\"color: #00af00; text-decoration-color: #00af00\">7</span>, <span style=\"color: #00af00; text-decoration-color: #00af00\">4</span>)             │           <span style=\"color: #00af00; text-decoration-color: #00af00\">1,156</span> │\n",
       "├──────────────────────────────────────┼─────────────────────────────┼─────────────────┤\n",
       "│ max_pooling2d_5 (<span style=\"color: #0087ff; text-decoration-color: #0087ff\">MaxPooling2D</span>)       │ (<span style=\"color: #00d7ff; text-decoration-color: #00d7ff\">None</span>, <span style=\"color: #00af00; text-decoration-color: #00af00\">4</span>, <span style=\"color: #00af00; text-decoration-color: #00af00\">4</span>, <span style=\"color: #00af00; text-decoration-color: #00af00\">4</span>)             │               <span style=\"color: #00af00; text-decoration-color: #00af00\">0</span> │\n",
       "├──────────────────────────────────────┼─────────────────────────────┼─────────────────┤\n",
       "│ bot (<span style=\"color: #0087ff; text-decoration-color: #0087ff\">Flatten</span>)                        │ (<span style=\"color: #00d7ff; text-decoration-color: #00d7ff\">None</span>, <span style=\"color: #00af00; text-decoration-color: #00af00\">64</span>)                  │               <span style=\"color: #00af00; text-decoration-color: #00af00\">0</span> │\n",
       "└──────────────────────────────────────┴─────────────────────────────┴─────────────────┘\n",
       "</pre>\n"
      ],
      "text/plain": [
       "┏━━━━━━━━━━━━━━━━━━━━━━━━━━━━━━━━━━━━━━┳━━━━━━━━━━━━━━━━━━━━━━━━━━━━━┳━━━━━━━━━━━━━━━━━┓\n",
       "┃\u001b[1m \u001b[0m\u001b[1mLayer (type)                        \u001b[0m\u001b[1m \u001b[0m┃\u001b[1m \u001b[0m\u001b[1mOutput Shape               \u001b[0m\u001b[1m \u001b[0m┃\u001b[1m \u001b[0m\u001b[1m        Param #\u001b[0m\u001b[1m \u001b[0m┃\n",
       "┡━━━━━━━━━━━━━━━━━━━━━━━━━━━━━━━━━━━━━━╇━━━━━━━━━━━━━━━━━━━━━━━━━━━━━╇━━━━━━━━━━━━━━━━━┩\n",
       "│ input_layer_2 (\u001b[38;5;33mInputLayer\u001b[0m)           │ (\u001b[38;5;45mNone\u001b[0m, \u001b[38;5;34m28\u001b[0m, \u001b[38;5;34m28\u001b[0m, \u001b[38;5;34m1\u001b[0m)           │               \u001b[38;5;34m0\u001b[0m │\n",
       "├──────────────────────────────────────┼─────────────────────────────┼─────────────────┤\n",
       "│ conv2d_3 (\u001b[38;5;33mConv2D\u001b[0m)                    │ (\u001b[38;5;45mNone\u001b[0m, \u001b[38;5;34m28\u001b[0m, \u001b[38;5;34m28\u001b[0m, \u001b[38;5;34m32\u001b[0m)          │             \u001b[38;5;34m320\u001b[0m │\n",
       "├──────────────────────────────────────┼─────────────────────────────┼─────────────────┤\n",
       "│ max_pooling2d_3 (\u001b[38;5;33mMaxPooling2D\u001b[0m)       │ (\u001b[38;5;45mNone\u001b[0m, \u001b[38;5;34m14\u001b[0m, \u001b[38;5;34m14\u001b[0m, \u001b[38;5;34m32\u001b[0m)          │               \u001b[38;5;34m0\u001b[0m │\n",
       "├──────────────────────────────────────┼─────────────────────────────┼─────────────────┤\n",
       "│ conv2d_4 (\u001b[38;5;33mConv2D\u001b[0m)                    │ (\u001b[38;5;45mNone\u001b[0m, \u001b[38;5;34m14\u001b[0m, \u001b[38;5;34m14\u001b[0m, \u001b[38;5;34m32\u001b[0m)          │           \u001b[38;5;34m9,248\u001b[0m │\n",
       "├──────────────────────────────────────┼─────────────────────────────┼─────────────────┤\n",
       "│ max_pooling2d_4 (\u001b[38;5;33mMaxPooling2D\u001b[0m)       │ (\u001b[38;5;45mNone\u001b[0m, \u001b[38;5;34m7\u001b[0m, \u001b[38;5;34m7\u001b[0m, \u001b[38;5;34m32\u001b[0m)            │               \u001b[38;5;34m0\u001b[0m │\n",
       "├──────────────────────────────────────┼─────────────────────────────┼─────────────────┤\n",
       "│ conv2d_5 (\u001b[38;5;33mConv2D\u001b[0m)                    │ (\u001b[38;5;45mNone\u001b[0m, \u001b[38;5;34m7\u001b[0m, \u001b[38;5;34m7\u001b[0m, \u001b[38;5;34m4\u001b[0m)             │           \u001b[38;5;34m1,156\u001b[0m │\n",
       "├──────────────────────────────────────┼─────────────────────────────┼─────────────────┤\n",
       "│ max_pooling2d_5 (\u001b[38;5;33mMaxPooling2D\u001b[0m)       │ (\u001b[38;5;45mNone\u001b[0m, \u001b[38;5;34m4\u001b[0m, \u001b[38;5;34m4\u001b[0m, \u001b[38;5;34m4\u001b[0m)             │               \u001b[38;5;34m0\u001b[0m │\n",
       "├──────────────────────────────────────┼─────────────────────────────┼─────────────────┤\n",
       "│ bot (\u001b[38;5;33mFlatten\u001b[0m)                        │ (\u001b[38;5;45mNone\u001b[0m, \u001b[38;5;34m64\u001b[0m)                  │               \u001b[38;5;34m0\u001b[0m │\n",
       "└──────────────────────────────────────┴─────────────────────────────┴─────────────────┘\n"
      ]
     },
     "metadata": {},
     "output_type": "display_data"
    },
    {
     "data": {
      "text/html": [
       "<pre style=\"white-space:pre;overflow-x:auto;line-height:normal;font-family:Menlo,'DejaVu Sans Mono',consolas,'Courier New',monospace\"><span style=\"font-weight: bold\"> Total params: </span><span style=\"color: #00af00; text-decoration-color: #00af00\">10,724</span> (41.89 KB)\n",
       "</pre>\n"
      ],
      "text/plain": [
       "\u001b[1m Total params: \u001b[0m\u001b[38;5;34m10,724\u001b[0m (41.89 KB)\n"
      ]
     },
     "metadata": {},
     "output_type": "display_data"
    },
    {
     "data": {
      "text/html": [
       "<pre style=\"white-space:pre;overflow-x:auto;line-height:normal;font-family:Menlo,'DejaVu Sans Mono',consolas,'Courier New',monospace\"><span style=\"font-weight: bold\"> Trainable params: </span><span style=\"color: #00af00; text-decoration-color: #00af00\">10,724</span> (41.89 KB)\n",
       "</pre>\n"
      ],
      "text/plain": [
       "\u001b[1m Trainable params: \u001b[0m\u001b[38;5;34m10,724\u001b[0m (41.89 KB)\n"
      ]
     },
     "metadata": {},
     "output_type": "display_data"
    },
    {
     "data": {
      "text/html": [
       "<pre style=\"white-space:pre;overflow-x:auto;line-height:normal;font-family:Menlo,'DejaVu Sans Mono',consolas,'Courier New',monospace\"><span style=\"font-weight: bold\"> Non-trainable params: </span><span style=\"color: #00af00; text-decoration-color: #00af00\">0</span> (0.00 B)\n",
       "</pre>\n"
      ],
      "text/plain": [
       "\u001b[1m Non-trainable params: \u001b[0m\u001b[38;5;34m0\u001b[0m (0.00 B)\n"
      ]
     },
     "metadata": {},
     "output_type": "display_data"
    }
   ],
   "source": [
    "an_encoder = Model(inputs=Autoencoder_input , outputs=Noisy_AE.get_layer(\"bot\").output)\n",
    "an_encoder.summary()"
   ]
  },
  {
   "cell_type": "code",
   "execution_count": 22,
   "id": "f19c6a68-6d2f-4225-8af5-82fa486ea933",
   "metadata": {},
   "outputs": [
    {
     "data": {
      "text/html": [
       "<pre style=\"white-space:pre;overflow-x:auto;line-height:normal;font-family:Menlo,'DejaVu Sans Mono',consolas,'Courier New',monospace\"><span style=\"font-weight: bold\">Model: \"Decoder\"</span>\n",
       "</pre>\n"
      ],
      "text/plain": [
       "\u001b[1mModel: \"Decoder\"\u001b[0m\n"
      ]
     },
     "metadata": {},
     "output_type": "display_data"
    },
    {
     "data": {
      "text/html": [
       "<pre style=\"white-space:pre;overflow-x:auto;line-height:normal;font-family:Menlo,'DejaVu Sans Mono',consolas,'Courier New',monospace\">┏━━━━━━━━━━━━━━━━━━━━━━━━━━━━━━━━━━━━━━┳━━━━━━━━━━━━━━━━━━━━━━━━━━━━━┳━━━━━━━━━━━━━━━━━┓\n",
       "┃<span style=\"font-weight: bold\"> Layer (type)                         </span>┃<span style=\"font-weight: bold\"> Output Shape                </span>┃<span style=\"font-weight: bold\">         Param # </span>┃\n",
       "┡━━━━━━━━━━━━━━━━━━━━━━━━━━━━━━━━━━━━━━╇━━━━━━━━━━━━━━━━━━━━━━━━━━━━━╇━━━━━━━━━━━━━━━━━┩\n",
       "│ input_layer_3 (<span style=\"color: #0087ff; text-decoration-color: #0087ff\">InputLayer</span>)           │ (<span style=\"color: #00d7ff; text-decoration-color: #00d7ff\">None</span>, <span style=\"color: #00af00; text-decoration-color: #00af00\">64</span>)                  │               <span style=\"color: #00af00; text-decoration-color: #00af00\">0</span> │\n",
       "├──────────────────────────────────────┼─────────────────────────────┼─────────────────┤\n",
       "│ bot0 (<span style=\"color: #0087ff; text-decoration-color: #0087ff\">Reshape</span>)                       │ (<span style=\"color: #00d7ff; text-decoration-color: #00d7ff\">None</span>, <span style=\"color: #00af00; text-decoration-color: #00af00\">4</span>, <span style=\"color: #00af00; text-decoration-color: #00af00\">4</span>, <span style=\"color: #00af00; text-decoration-color: #00af00\">4</span>)             │               <span style=\"color: #00af00; text-decoration-color: #00af00\">0</span> │\n",
       "├──────────────────────────────────────┼─────────────────────────────┼─────────────────┤\n",
       "│ bot1 (<span style=\"color: #0087ff; text-decoration-color: #0087ff\">Conv2D</span>)                        │ (<span style=\"color: #00d7ff; text-decoration-color: #00d7ff\">None</span>, <span style=\"color: #00af00; text-decoration-color: #00af00\">4</span>, <span style=\"color: #00af00; text-decoration-color: #00af00\">4</span>, <span style=\"color: #00af00; text-decoration-color: #00af00\">4</span>)             │             <span style=\"color: #00af00; text-decoration-color: #00af00\">148</span> │\n",
       "├──────────────────────────────────────┼─────────────────────────────┼─────────────────┤\n",
       "│ bot2 (<span style=\"color: #0087ff; text-decoration-color: #0087ff\">UpSampling2D</span>)                  │ (<span style=\"color: #00d7ff; text-decoration-color: #00d7ff\">None</span>, <span style=\"color: #00af00; text-decoration-color: #00af00\">8</span>, <span style=\"color: #00af00; text-decoration-color: #00af00\">8</span>, <span style=\"color: #00af00; text-decoration-color: #00af00\">4</span>)             │               <span style=\"color: #00af00; text-decoration-color: #00af00\">0</span> │\n",
       "├──────────────────────────────────────┼─────────────────────────────┼─────────────────┤\n",
       "│ bot3 (<span style=\"color: #0087ff; text-decoration-color: #0087ff\">Conv2D</span>)                        │ (<span style=\"color: #00d7ff; text-decoration-color: #00d7ff\">None</span>, <span style=\"color: #00af00; text-decoration-color: #00af00\">8</span>, <span style=\"color: #00af00; text-decoration-color: #00af00\">8</span>, <span style=\"color: #00af00; text-decoration-color: #00af00\">32</span>)            │           <span style=\"color: #00af00; text-decoration-color: #00af00\">1,184</span> │\n",
       "├──────────────────────────────────────┼─────────────────────────────┼─────────────────┤\n",
       "│ bot4 (<span style=\"color: #0087ff; text-decoration-color: #0087ff\">UpSampling2D</span>)                  │ (<span style=\"color: #00d7ff; text-decoration-color: #00d7ff\">None</span>, <span style=\"color: #00af00; text-decoration-color: #00af00\">16</span>, <span style=\"color: #00af00; text-decoration-color: #00af00\">16</span>, <span style=\"color: #00af00; text-decoration-color: #00af00\">32</span>)          │               <span style=\"color: #00af00; text-decoration-color: #00af00\">0</span> │\n",
       "├──────────────────────────────────────┼─────────────────────────────┼─────────────────┤\n",
       "│ bot5 (<span style=\"color: #0087ff; text-decoration-color: #0087ff\">Conv2D</span>)                        │ (<span style=\"color: #00d7ff; text-decoration-color: #00d7ff\">None</span>, <span style=\"color: #00af00; text-decoration-color: #00af00\">14</span>, <span style=\"color: #00af00; text-decoration-color: #00af00\">14</span>, <span style=\"color: #00af00; text-decoration-color: #00af00\">32</span>)          │           <span style=\"color: #00af00; text-decoration-color: #00af00\">9,248</span> │\n",
       "├──────────────────────────────────────┼─────────────────────────────┼─────────────────┤\n",
       "│ bot6 (<span style=\"color: #0087ff; text-decoration-color: #0087ff\">UpSampling2D</span>)                  │ (<span style=\"color: #00d7ff; text-decoration-color: #00d7ff\">None</span>, <span style=\"color: #00af00; text-decoration-color: #00af00\">28</span>, <span style=\"color: #00af00; text-decoration-color: #00af00\">28</span>, <span style=\"color: #00af00; text-decoration-color: #00af00\">32</span>)          │               <span style=\"color: #00af00; text-decoration-color: #00af00\">0</span> │\n",
       "├──────────────────────────────────────┼─────────────────────────────┼─────────────────┤\n",
       "│ bot7 (<span style=\"color: #0087ff; text-decoration-color: #0087ff\">Conv2D</span>)                        │ (<span style=\"color: #00d7ff; text-decoration-color: #00d7ff\">None</span>, <span style=\"color: #00af00; text-decoration-color: #00af00\">28</span>, <span style=\"color: #00af00; text-decoration-color: #00af00\">28</span>, <span style=\"color: #00af00; text-decoration-color: #00af00\">1</span>)           │             <span style=\"color: #00af00; text-decoration-color: #00af00\">289</span> │\n",
       "└──────────────────────────────────────┴─────────────────────────────┴─────────────────┘\n",
       "</pre>\n"
      ],
      "text/plain": [
       "┏━━━━━━━━━━━━━━━━━━━━━━━━━━━━━━━━━━━━━━┳━━━━━━━━━━━━━━━━━━━━━━━━━━━━━┳━━━━━━━━━━━━━━━━━┓\n",
       "┃\u001b[1m \u001b[0m\u001b[1mLayer (type)                        \u001b[0m\u001b[1m \u001b[0m┃\u001b[1m \u001b[0m\u001b[1mOutput Shape               \u001b[0m\u001b[1m \u001b[0m┃\u001b[1m \u001b[0m\u001b[1m        Param #\u001b[0m\u001b[1m \u001b[0m┃\n",
       "┡━━━━━━━━━━━━━━━━━━━━━━━━━━━━━━━━━━━━━━╇━━━━━━━━━━━━━━━━━━━━━━━━━━━━━╇━━━━━━━━━━━━━━━━━┩\n",
       "│ input_layer_3 (\u001b[38;5;33mInputLayer\u001b[0m)           │ (\u001b[38;5;45mNone\u001b[0m, \u001b[38;5;34m64\u001b[0m)                  │               \u001b[38;5;34m0\u001b[0m │\n",
       "├──────────────────────────────────────┼─────────────────────────────┼─────────────────┤\n",
       "│ bot0 (\u001b[38;5;33mReshape\u001b[0m)                       │ (\u001b[38;5;45mNone\u001b[0m, \u001b[38;5;34m4\u001b[0m, \u001b[38;5;34m4\u001b[0m, \u001b[38;5;34m4\u001b[0m)             │               \u001b[38;5;34m0\u001b[0m │\n",
       "├──────────────────────────────────────┼─────────────────────────────┼─────────────────┤\n",
       "│ bot1 (\u001b[38;5;33mConv2D\u001b[0m)                        │ (\u001b[38;5;45mNone\u001b[0m, \u001b[38;5;34m4\u001b[0m, \u001b[38;5;34m4\u001b[0m, \u001b[38;5;34m4\u001b[0m)             │             \u001b[38;5;34m148\u001b[0m │\n",
       "├──────────────────────────────────────┼─────────────────────────────┼─────────────────┤\n",
       "│ bot2 (\u001b[38;5;33mUpSampling2D\u001b[0m)                  │ (\u001b[38;5;45mNone\u001b[0m, \u001b[38;5;34m8\u001b[0m, \u001b[38;5;34m8\u001b[0m, \u001b[38;5;34m4\u001b[0m)             │               \u001b[38;5;34m0\u001b[0m │\n",
       "├──────────────────────────────────────┼─────────────────────────────┼─────────────────┤\n",
       "│ bot3 (\u001b[38;5;33mConv2D\u001b[0m)                        │ (\u001b[38;5;45mNone\u001b[0m, \u001b[38;5;34m8\u001b[0m, \u001b[38;5;34m8\u001b[0m, \u001b[38;5;34m32\u001b[0m)            │           \u001b[38;5;34m1,184\u001b[0m │\n",
       "├──────────────────────────────────────┼─────────────────────────────┼─────────────────┤\n",
       "│ bot4 (\u001b[38;5;33mUpSampling2D\u001b[0m)                  │ (\u001b[38;5;45mNone\u001b[0m, \u001b[38;5;34m16\u001b[0m, \u001b[38;5;34m16\u001b[0m, \u001b[38;5;34m32\u001b[0m)          │               \u001b[38;5;34m0\u001b[0m │\n",
       "├──────────────────────────────────────┼─────────────────────────────┼─────────────────┤\n",
       "│ bot5 (\u001b[38;5;33mConv2D\u001b[0m)                        │ (\u001b[38;5;45mNone\u001b[0m, \u001b[38;5;34m14\u001b[0m, \u001b[38;5;34m14\u001b[0m, \u001b[38;5;34m32\u001b[0m)          │           \u001b[38;5;34m9,248\u001b[0m │\n",
       "├──────────────────────────────────────┼─────────────────────────────┼─────────────────┤\n",
       "│ bot6 (\u001b[38;5;33mUpSampling2D\u001b[0m)                  │ (\u001b[38;5;45mNone\u001b[0m, \u001b[38;5;34m28\u001b[0m, \u001b[38;5;34m28\u001b[0m, \u001b[38;5;34m32\u001b[0m)          │               \u001b[38;5;34m0\u001b[0m │\n",
       "├──────────────────────────────────────┼─────────────────────────────┼─────────────────┤\n",
       "│ bot7 (\u001b[38;5;33mConv2D\u001b[0m)                        │ (\u001b[38;5;45mNone\u001b[0m, \u001b[38;5;34m28\u001b[0m, \u001b[38;5;34m28\u001b[0m, \u001b[38;5;34m1\u001b[0m)           │             \u001b[38;5;34m289\u001b[0m │\n",
       "└──────────────────────────────────────┴─────────────────────────────┴─────────────────┘\n"
      ]
     },
     "metadata": {},
     "output_type": "display_data"
    },
    {
     "data": {
      "text/html": [
       "<pre style=\"white-space:pre;overflow-x:auto;line-height:normal;font-family:Menlo,'DejaVu Sans Mono',consolas,'Courier New',monospace\"><span style=\"font-weight: bold\"> Total params: </span><span style=\"color: #00af00; text-decoration-color: #00af00\">10,869</span> (42.46 KB)\n",
       "</pre>\n"
      ],
      "text/plain": [
       "\u001b[1m Total params: \u001b[0m\u001b[38;5;34m10,869\u001b[0m (42.46 KB)\n"
      ]
     },
     "metadata": {},
     "output_type": "display_data"
    },
    {
     "data": {
      "text/html": [
       "<pre style=\"white-space:pre;overflow-x:auto;line-height:normal;font-family:Menlo,'DejaVu Sans Mono',consolas,'Courier New',monospace\"><span style=\"font-weight: bold\"> Trainable params: </span><span style=\"color: #00af00; text-decoration-color: #00af00\">10,869</span> (42.46 KB)\n",
       "</pre>\n"
      ],
      "text/plain": [
       "\u001b[1m Trainable params: \u001b[0m\u001b[38;5;34m10,869\u001b[0m (42.46 KB)\n"
      ]
     },
     "metadata": {},
     "output_type": "display_data"
    },
    {
     "data": {
      "text/html": [
       "<pre style=\"white-space:pre;overflow-x:auto;line-height:normal;font-family:Menlo,'DejaVu Sans Mono',consolas,'Courier New',monospace\"><span style=\"font-weight: bold\"> Non-trainable params: </span><span style=\"color: #00af00; text-decoration-color: #00af00\">0</span> (0.00 B)\n",
       "</pre>\n"
      ],
      "text/plain": [
       "\u001b[1m Non-trainable params: \u001b[0m\u001b[38;5;34m0\u001b[0m (0.00 B)\n"
      ]
     },
     "metadata": {},
     "output_type": "display_data"
    }
   ],
   "source": [
    "de_input = Input(shape=(64,))\n",
    "de_output = Noisy_AE.get_layer(\"bot0\")(de_input)\n",
    "for i in range(1,8):\n",
    "    st = f\"bot{i}\"\n",
    "    de_output = Noisy_AE.get_layer(st)(de_output)\n",
    "\n",
    "an_decoder = Model(inputs=de_input , outputs=de_output , name=\"Decoder\")\n",
    "an_decoder.summary()"
   ]
  },
  {
   "cell_type": "code",
   "execution_count": 23,
   "id": "95fa12f7-c6c2-48f6-a0da-c12011dc7961",
   "metadata": {},
   "outputs": [
    {
     "name": "stdout",
     "output_type": "stream",
     "text": [
      "Epoch 1/100\n",
      "211/211 - 31s - 149ms/step - accuracy: 0.8031 - loss: 0.3041 - val_accuracy: 0.8068 - val_loss: 0.2489\n",
      "Epoch 2/100\n",
      "211/211 - 37s - 176ms/step - accuracy: 0.7948 - loss: 0.2366 - val_accuracy: 0.7953 - val_loss: 0.2212\n",
      "Epoch 3/100\n",
      "211/211 - 35s - 167ms/step - accuracy: 0.7928 - loss: 0.2164 - val_accuracy: 0.7975 - val_loss: 0.2079\n",
      "Epoch 4/100\n",
      "211/211 - 30s - 143ms/step - accuracy: 0.7938 - loss: 0.2053 - val_accuracy: 0.7979 - val_loss: 0.2000\n",
      "Epoch 5/100\n",
      "211/211 - 34s - 160ms/step - accuracy: 0.7950 - loss: 0.1984 - val_accuracy: 0.7987 - val_loss: 0.1920\n",
      "Epoch 6/100\n",
      "211/211 - 38s - 181ms/step - accuracy: 0.7963 - loss: 0.1923 - val_accuracy: 0.7992 - val_loss: 0.1870\n",
      "Epoch 7/100\n",
      "211/211 - 45s - 216ms/step - accuracy: 0.7973 - loss: 0.1874 - val_accuracy: 0.7994 - val_loss: 0.1826\n",
      "Epoch 8/100\n",
      "211/211 - 29s - 136ms/step - accuracy: 0.7981 - loss: 0.1836 - val_accuracy: 0.7994 - val_loss: 0.1791\n",
      "Epoch 9/100\n",
      "211/211 - 29s - 136ms/step - accuracy: 0.7987 - loss: 0.1805 - val_accuracy: 0.7992 - val_loss: 0.1775\n",
      "Epoch 10/100\n",
      "211/211 - 26s - 124ms/step - accuracy: 0.7993 - loss: 0.1776 - val_accuracy: 0.7999 - val_loss: 0.1748\n",
      "Epoch 11/100\n",
      "211/211 - 25s - 120ms/step - accuracy: 0.7998 - loss: 0.1752 - val_accuracy: 0.8014 - val_loss: 0.1711\n",
      "Epoch 12/100\n",
      "211/211 - 26s - 124ms/step - accuracy: 0.8002 - loss: 0.1730 - val_accuracy: 0.8016 - val_loss: 0.1690\n",
      "Epoch 13/100\n",
      "211/211 - 31s - 146ms/step - accuracy: 0.8006 - loss: 0.1710 - val_accuracy: 0.8017 - val_loss: 0.1672\n",
      "Epoch 14/100\n",
      "211/211 - 32s - 150ms/step - accuracy: 0.8009 - loss: 0.1691 - val_accuracy: 0.8020 - val_loss: 0.1655\n",
      "Epoch 15/100\n",
      "211/211 - 37s - 175ms/step - accuracy: 0.8013 - loss: 0.1674 - val_accuracy: 0.8022 - val_loss: 0.1641\n",
      "Epoch 16/100\n",
      "211/211 - 42s - 199ms/step - accuracy: 0.8015 - loss: 0.1660 - val_accuracy: 0.8026 - val_loss: 0.1628\n",
      "Epoch 17/100\n",
      "211/211 - 35s - 167ms/step - accuracy: 0.8018 - loss: 0.1647 - val_accuracy: 0.8030 - val_loss: 0.1616\n",
      "Epoch 18/100\n",
      "211/211 - 36s - 173ms/step - accuracy: 0.8020 - loss: 0.1634 - val_accuracy: 0.8033 - val_loss: 0.1606\n",
      "Epoch 19/100\n",
      "211/211 - 37s - 174ms/step - accuracy: 0.8022 - loss: 0.1623 - val_accuracy: 0.8036 - val_loss: 0.1596\n",
      "Epoch 20/100\n",
      "211/211 - 35s - 166ms/step - accuracy: 0.8025 - loss: 0.1611 - val_accuracy: 0.8039 - val_loss: 0.1586\n",
      "Epoch 21/100\n",
      "211/211 - 35s - 167ms/step - accuracy: 0.8026 - loss: 0.1602 - val_accuracy: 0.8041 - val_loss: 0.1577\n",
      "Epoch 22/100\n",
      "211/211 - 37s - 175ms/step - accuracy: 0.8028 - loss: 0.1593 - val_accuracy: 0.8042 - val_loss: 0.1569\n",
      "Epoch 23/100\n",
      "211/211 - 36s - 169ms/step - accuracy: 0.8030 - loss: 0.1585 - val_accuracy: 0.8043 - val_loss: 0.1563\n",
      "Epoch 24/100\n",
      "211/211 - 37s - 176ms/step - accuracy: 0.8032 - loss: 0.1577 - val_accuracy: 0.8044 - val_loss: 0.1557\n",
      "Epoch 25/100\n",
      "211/211 - 36s - 169ms/step - accuracy: 0.8033 - loss: 0.1569 - val_accuracy: 0.8044 - val_loss: 0.1549\n",
      "Epoch 26/100\n",
      "211/211 - 31s - 145ms/step - accuracy: 0.8035 - loss: 0.1562 - val_accuracy: 0.8046 - val_loss: 0.1541\n",
      "Epoch 27/100\n",
      "211/211 - 31s - 148ms/step - accuracy: 0.8036 - loss: 0.1555 - val_accuracy: 0.8047 - val_loss: 0.1534\n",
      "Epoch 28/100\n",
      "211/211 - 33s - 158ms/step - accuracy: 0.8037 - loss: 0.1549 - val_accuracy: 0.8048 - val_loss: 0.1527\n",
      "Epoch 29/100\n",
      "211/211 - 33s - 159ms/step - accuracy: 0.8039 - loss: 0.1542 - val_accuracy: 0.8049 - val_loss: 0.1521\n",
      "Epoch 30/100\n",
      "211/211 - 33s - 157ms/step - accuracy: 0.8040 - loss: 0.1537 - val_accuracy: 0.8049 - val_loss: 0.1516\n",
      "Epoch 31/100\n",
      "211/211 - 31s - 149ms/step - accuracy: 0.8041 - loss: 0.1531 - val_accuracy: 0.8051 - val_loss: 0.1511\n",
      "Epoch 32/100\n",
      "211/211 - 30s - 143ms/step - accuracy: 0.8042 - loss: 0.1525 - val_accuracy: 0.8052 - val_loss: 0.1506\n",
      "Epoch 33/100\n",
      "211/211 - 31s - 149ms/step - accuracy: 0.8043 - loss: 0.1520 - val_accuracy: 0.8053 - val_loss: 0.1501\n",
      "Epoch 34/100\n",
      "211/211 - 32s - 153ms/step - accuracy: 0.8044 - loss: 0.1515 - val_accuracy: 0.8054 - val_loss: 0.1495\n",
      "Epoch 35/100\n",
      "211/211 - 24s - 112ms/step - accuracy: 0.8045 - loss: 0.1510 - val_accuracy: 0.8055 - val_loss: 0.1490\n",
      "Epoch 36/100\n",
      "211/211 - 21s - 100ms/step - accuracy: 0.8046 - loss: 0.1505 - val_accuracy: 0.8056 - val_loss: 0.1486\n",
      "Epoch 37/100\n",
      "211/211 - 22s - 103ms/step - accuracy: 0.8047 - loss: 0.1501 - val_accuracy: 0.8057 - val_loss: 0.1482\n",
      "Epoch 38/100\n",
      "211/211 - 23s - 110ms/step - accuracy: 0.8048 - loss: 0.1496 - val_accuracy: 0.8057 - val_loss: 0.1476\n",
      "Epoch 39/100\n",
      "211/211 - 28s - 132ms/step - accuracy: 0.8049 - loss: 0.1492 - val_accuracy: 0.8058 - val_loss: 0.1473\n",
      "Epoch 40/100\n",
      "211/211 - 25s - 120ms/step - accuracy: 0.8050 - loss: 0.1488 - val_accuracy: 0.8059 - val_loss: 0.1468\n",
      "Epoch 41/100\n",
      "211/211 - 24s - 112ms/step - accuracy: 0.8050 - loss: 0.1484 - val_accuracy: 0.8060 - val_loss: 0.1464\n",
      "Epoch 42/100\n",
      "211/211 - 27s - 126ms/step - accuracy: 0.8051 - loss: 0.1480 - val_accuracy: 0.8061 - val_loss: 0.1462\n",
      "Epoch 43/100\n",
      "211/211 - 26s - 122ms/step - accuracy: 0.8052 - loss: 0.1476 - val_accuracy: 0.8061 - val_loss: 0.1458\n",
      "Epoch 44/100\n",
      "211/211 - 22s - 106ms/step - accuracy: 0.8053 - loss: 0.1472 - val_accuracy: 0.8062 - val_loss: 0.1454\n",
      "Epoch 45/100\n",
      "211/211 - 22s - 105ms/step - accuracy: 0.8053 - loss: 0.1468 - val_accuracy: 0.8062 - val_loss: 0.1450\n",
      "Epoch 46/100\n",
      "211/211 - 24s - 113ms/step - accuracy: 0.8054 - loss: 0.1465 - val_accuracy: 0.8063 - val_loss: 0.1447\n",
      "Epoch 47/100\n",
      "211/211 - 25s - 119ms/step - accuracy: 0.8055 - loss: 0.1461 - val_accuracy: 0.8064 - val_loss: 0.1443\n",
      "Epoch 48/100\n",
      "211/211 - 24s - 115ms/step - accuracy: 0.8055 - loss: 0.1458 - val_accuracy: 0.8064 - val_loss: 0.1440\n",
      "Epoch 49/100\n",
      "211/211 - 23s - 107ms/step - accuracy: 0.8056 - loss: 0.1454 - val_accuracy: 0.8065 - val_loss: 0.1438\n",
      "Epoch 50/100\n",
      "211/211 - 23s - 109ms/step - accuracy: 0.8057 - loss: 0.1451 - val_accuracy: 0.8065 - val_loss: 0.1435\n",
      "Epoch 51/100\n",
      "211/211 - 21s - 100ms/step - accuracy: 0.8057 - loss: 0.1447 - val_accuracy: 0.8065 - val_loss: 0.1432\n",
      "Epoch 52/100\n",
      "211/211 - 23s - 111ms/step - accuracy: 0.8058 - loss: 0.1443 - val_accuracy: 0.8066 - val_loss: 0.1429\n",
      "Epoch 53/100\n",
      "211/211 - 28s - 131ms/step - accuracy: 0.8058 - loss: 0.1442 - val_accuracy: 0.8067 - val_loss: 0.1426\n",
      "Epoch 54/100\n",
      "211/211 - 23s - 108ms/step - accuracy: 0.8059 - loss: 0.1438 - val_accuracy: 0.8067 - val_loss: 0.1423\n",
      "Epoch 55/100\n",
      "211/211 - 23s - 107ms/step - accuracy: 0.8060 - loss: 0.1434 - val_accuracy: 0.8068 - val_loss: 0.1419\n",
      "Epoch 56/100\n",
      "211/211 - 27s - 128ms/step - accuracy: 0.8060 - loss: 0.1431 - val_accuracy: 0.8069 - val_loss: 0.1418\n",
      "Epoch 57/100\n",
      "211/211 - 25s - 118ms/step - accuracy: 0.8061 - loss: 0.1428 - val_accuracy: 0.8069 - val_loss: 0.1415\n",
      "Epoch 58/100\n",
      "211/211 - 23s - 111ms/step - accuracy: 0.8062 - loss: 0.1424 - val_accuracy: 0.8070 - val_loss: 0.1413\n",
      "Epoch 59/100\n",
      "211/211 - 22s - 103ms/step - accuracy: 0.8062 - loss: 0.1424 - val_accuracy: 0.8070 - val_loss: 0.1410\n",
      "Epoch 60/100\n",
      "211/211 - 22s - 106ms/step - accuracy: 0.8062 - loss: 0.1421 - val_accuracy: 0.8071 - val_loss: 0.1407\n",
      "Epoch 61/100\n",
      "211/211 - 28s - 131ms/step - accuracy: 0.8063 - loss: 0.1417 - val_accuracy: 0.8071 - val_loss: 0.1405\n",
      "Epoch 62/100\n",
      "211/211 - 27s - 128ms/step - accuracy: 0.8063 - loss: 0.1416 - val_accuracy: 0.8072 - val_loss: 0.1403\n",
      "Epoch 63/100\n",
      "211/211 - 22s - 105ms/step - accuracy: 0.8064 - loss: 0.1412 - val_accuracy: 0.8071 - val_loss: 0.1401\n",
      "Epoch 64/100\n",
      "211/211 - 24s - 112ms/step - accuracy: 0.8064 - loss: 0.1410 - val_accuracy: 0.8072 - val_loss: 0.1399\n",
      "Epoch 65/100\n",
      "211/211 - 33s - 156ms/step - accuracy: 0.8064 - loss: 0.1407 - val_accuracy: 0.8072 - val_loss: 0.1397\n",
      "Epoch 66/100\n",
      "211/211 - 24s - 115ms/step - accuracy: 0.8065 - loss: 0.1404 - val_accuracy: 0.8072 - val_loss: 0.1395\n",
      "Epoch 67/100\n",
      "211/211 - 24s - 113ms/step - accuracy: 0.8065 - loss: 0.1402 - val_accuracy: 0.8073 - val_loss: 0.1392\n",
      "Epoch 68/100\n",
      "211/211 - 30s - 140ms/step - accuracy: 0.8066 - loss: 0.1400 - val_accuracy: 0.8073 - val_loss: 0.1390\n",
      "Epoch 69/100\n",
      "211/211 - 21s - 101ms/step - accuracy: 0.8066 - loss: 0.1397 - val_accuracy: 0.8073 - val_loss: 0.1388\n",
      "Epoch 70/100\n",
      "211/211 - 21s - 101ms/step - accuracy: 0.8067 - loss: 0.1395 - val_accuracy: 0.8073 - val_loss: 0.1386\n",
      "Epoch 71/100\n",
      "211/211 - 21s - 101ms/step - accuracy: 0.8067 - loss: 0.1392 - val_accuracy: 0.8074 - val_loss: 0.1383\n",
      "Epoch 72/100\n",
      "211/211 - 23s - 111ms/step - accuracy: 0.8067 - loss: 0.1391 - val_accuracy: 0.8074 - val_loss: 0.1381\n",
      "Epoch 73/100\n",
      "211/211 - 28s - 132ms/step - accuracy: 0.8068 - loss: 0.1389 - val_accuracy: 0.8074 - val_loss: 0.1380\n",
      "Epoch 74/100\n",
      "211/211 - 26s - 125ms/step - accuracy: 0.8068 - loss: 0.1386 - val_accuracy: 0.8075 - val_loss: 0.1377\n",
      "Epoch 75/100\n",
      "211/211 - 22s - 105ms/step - accuracy: 0.8069 - loss: 0.1384 - val_accuracy: 0.8075 - val_loss: 0.1376\n",
      "Epoch 76/100\n",
      "211/211 - 21s - 100ms/step - accuracy: 0.8069 - loss: 0.1382 - val_accuracy: 0.8075 - val_loss: 0.1373\n",
      "Epoch 77/100\n",
      "211/211 - 24s - 115ms/step - accuracy: 0.8069 - loss: 0.1381 - val_accuracy: 0.8076 - val_loss: 0.1371\n",
      "Epoch 78/100\n",
      "211/211 - 23s - 110ms/step - accuracy: 0.8070 - loss: 0.1378 - val_accuracy: 0.8077 - val_loss: 0.1369\n",
      "Epoch 79/100\n",
      "211/211 - 21s - 102ms/step - accuracy: 0.8070 - loss: 0.1376 - val_accuracy: 0.8077 - val_loss: 0.1368\n",
      "Epoch 80/100\n",
      "211/211 - 21s - 102ms/step - accuracy: 0.8070 - loss: 0.1375 - val_accuracy: 0.8077 - val_loss: 0.1366\n",
      "Epoch 81/100\n",
      "211/211 - 24s - 112ms/step - accuracy: 0.8071 - loss: 0.1373 - val_accuracy: 0.8077 - val_loss: 0.1365\n",
      "Epoch 82/100\n",
      "211/211 - 22s - 103ms/step - accuracy: 0.8071 - loss: 0.1371 - val_accuracy: 0.8077 - val_loss: 0.1364\n",
      "Epoch 83/100\n",
      "211/211 - 27s - 126ms/step - accuracy: 0.8072 - loss: 0.1369 - val_accuracy: 0.8077 - val_loss: 0.1361\n",
      "Epoch 84/100\n",
      "211/211 - 25s - 120ms/step - accuracy: 0.8072 - loss: 0.1367 - val_accuracy: 0.8078 - val_loss: 0.1359\n",
      "Epoch 85/100\n",
      "211/211 - 28s - 132ms/step - accuracy: 0.8072 - loss: 0.1365 - val_accuracy: 0.8078 - val_loss: 0.1358\n",
      "Epoch 86/100\n",
      "211/211 - 23s - 111ms/step - accuracy: 0.8072 - loss: 0.1363 - val_accuracy: 0.8078 - val_loss: 0.1357\n",
      "Epoch 87/100\n",
      "211/211 - 26s - 123ms/step - accuracy: 0.8073 - loss: 0.1362 - val_accuracy: 0.8078 - val_loss: 0.1356\n",
      "Epoch 88/100\n",
      "211/211 - 26s - 124ms/step - accuracy: 0.8073 - loss: 0.1360 - val_accuracy: 0.8078 - val_loss: 0.1355\n",
      "Epoch 89/100\n",
      "211/211 - 24s - 115ms/step - accuracy: 0.8073 - loss: 0.1359 - val_accuracy: 0.8079 - val_loss: 0.1353\n",
      "Epoch 90/100\n",
      "211/211 - 21s - 100ms/step - accuracy: 0.8074 - loss: 0.1357 - val_accuracy: 0.8078 - val_loss: 0.1352\n",
      "Epoch 91/100\n",
      "211/211 - 21s - 100ms/step - accuracy: 0.8074 - loss: 0.1355 - val_accuracy: 0.8079 - val_loss: 0.1350\n",
      "Epoch 92/100\n",
      "211/211 - 21s - 99ms/step - accuracy: 0.8074 - loss: 0.1354 - val_accuracy: 0.8079 - val_loss: 0.1348\n",
      "Epoch 93/100\n",
      "211/211 - 21s - 100ms/step - accuracy: 0.8075 - loss: 0.1352 - val_accuracy: 0.8079 - val_loss: 0.1348\n",
      "Epoch 94/100\n",
      "211/211 - 21s - 100ms/step - accuracy: 0.8075 - loss: 0.1351 - val_accuracy: 0.8080 - val_loss: 0.1345\n",
      "Epoch 95/100\n",
      "211/211 - 21s - 101ms/step - accuracy: 0.8075 - loss: 0.1349 - val_accuracy: 0.8080 - val_loss: 0.1345\n",
      "Epoch 96/100\n",
      "211/211 - 21s - 100ms/step - accuracy: 0.8075 - loss: 0.1348 - val_accuracy: 0.8080 - val_loss: 0.1343\n",
      "Epoch 97/100\n",
      "211/211 - 21s - 100ms/step - accuracy: 0.8076 - loss: 0.1346 - val_accuracy: 0.8080 - val_loss: 0.1341\n",
      "Epoch 98/100\n",
      "211/211 - 21s - 99ms/step - accuracy: 0.8076 - loss: 0.1344 - val_accuracy: 0.8080 - val_loss: 0.1341\n",
      "Epoch 99/100\n",
      "211/211 - 21s - 100ms/step - accuracy: 0.8076 - loss: 0.1343 - val_accuracy: 0.8080 - val_loss: 0.1340\n",
      "Epoch 100/100\n",
      "211/211 - 21s - 100ms/step - accuracy: 0.8077 - loss: 0.1342 - val_accuracy: 0.8081 - val_loss: 0.1338\n",
      "Time taken by model to train is 45.03 mins\n"
     ]
    }
   ],
   "source": [
    "from time import time\n",
    "\n",
    "tic = time()\n",
    "\n",
    "Noisy_AE.fit(X_train_noisy,X_train,\n",
    "            epochs=100,\n",
    "            batch_size=256,\n",
    "            verbose=2,\n",
    "            shuffle=False,validation_split=0.1)\n",
    "toc = time()\n",
    "t = toc-tic\n",
    "print(f\"Time taken by model to train is {t/60:.2f} mins\")"
   ]
  },
  {
   "cell_type": "code",
   "execution_count": 24,
   "id": "c9603d3e-c23e-4800-8f02-8edff6b73e60",
   "metadata": {},
   "outputs": [
    {
     "name": "stdout",
     "output_type": "stream",
     "text": [
      "\u001b[1m313/313\u001b[0m \u001b[32m━━━━━━━━━━━━━━━━━━━━\u001b[0m\u001b[37m\u001b[0m \u001b[1m2s\u001b[0m 5ms/step\n",
      "\u001b[1m313/313\u001b[0m \u001b[32m━━━━━━━━━━━━━━━━━━━━\u001b[0m\u001b[37m\u001b[0m \u001b[1m2s\u001b[0m 5ms/step\n",
      "The shape of images when are first passed through encoder and then decoder is: (10000, 28, 28, 1)\n"
     ]
    }
   ],
   "source": [
    "img_compressed = an_encoder.predict(X_test_noisy)\n",
    "de_img = au_decoder.predict(img_compressed)\n",
    "print(f\"The shape of images when are first passed through encoder and then decoder is: {de_img.shape}\")"
   ]
  },
  {
   "cell_type": "code",
   "execution_count": 25,
   "id": "fd178b10-3de1-488a-be6e-e38d73629bf3",
   "metadata": {},
   "outputs": [
    {
     "data": {
      "image/png": "[encoded data removed]",
      "text/plain": [
       "<Figure size 2000x400 with 20 Axes>"
      ]
     },
     "metadata": {},
     "output_type": "display_data"
    }
   ],
   "source": [
    "n=10\n",
    "k=13\n",
    "plt.figure(figsize=(20,4))\n",
    "\n",
    "for i in range(n):\n",
    "    ax = plt.subplot(2,n,i+1)\n",
    "    plt.imshow(X_test_noisy[i*k].reshape(28,28))\n",
    "    plt.gray()\n",
    "    ax.get_xaxis().set_visible(False)\n",
    "    ax.get_yaxis().set_visible(False)\n",
    "\n",
    "    ax = plt.subplot(2,n,i+1+n)\n",
    "    plt.imshow(de_img[i*k].reshape(28,28))\n",
    "    plt.gray()\n",
    "    ax.get_xaxis().set_visible(False)\n",
    "    ax.get_yaxis().set_visible(False)\n",
    "\n",
    "plt.show()"
   ]
  },
  {
   "cell_type": "code",
   "execution_count": 26,
   "id": "494622a9-b2f7-476a-a6c7-0321196ffd65",
   "metadata": {},
   "outputs": [
    {
     "name": "stdout",
     "output_type": "stream",
     "text": [
      "\u001b[1m313/313\u001b[0m \u001b[32m━━━━━━━━━━━━━━━━━━━━\u001b[0m\u001b[37m\u001b[0m \u001b[1m4s\u001b[0m 11ms/step\n",
      "The shape of generated images from Noisy AutoEncoders is: (10000, 28, 28, 1)\n"
     ]
    }
   ],
   "source": [
    "au_img = Noisy_AE.predict(X_test_noisy)\n",
    "print(f\"The shape of generated images from Noisy AutoEncoders is: {au_img.shape}\")"
   ]
  },
  {
   "cell_type": "code",
   "execution_count": 27,
   "id": "220e211a-d65c-4ec0-8dea-d5501071afe7",
   "metadata": {},
   "outputs": [
    {
     "data": {
      "image/png": "[encoded data removed]",
      "text/plain": [
       "<Figure size 2000x400 with 20 Axes>"
      ]
     },
     "metadata": {},
     "output_type": "display_data"
    }
   ],
   "source": [
    "n=10\n",
    "k=13\n",
    "plt.figure(figsize=(20,4))\n",
    "\n",
    "for i in range(n):\n",
    "    ax = plt.subplot(2,n,i+1)\n",
    "    plt.imshow(X_test_noisy[i*k].reshape(28,28))\n",
    "    plt.gray()\n",
    "    ax.get_xaxis().set_visible(False)\n",
    "    ax.get_yaxis().set_visible(False)\n",
    "\n",
    "    ax = plt.subplot(2,n,i+1+n)\n",
    "    plt.imshow(au_img[i*k].reshape(28,28))\n",
    "    plt.gray()\n",
    "    ax.get_xaxis().set_visible(False)\n",
    "    ax.get_yaxis().set_visible(False)\n",
    "\n",
    "plt.show()"
   ]
  },
  {
   "cell_type": "code",
   "execution_count": null,
   "id": "c7d909e2-a15a-478a-898b-1bf412602d5a",
   "metadata": {},
   "outputs": [],
   "source": []
  }
 ],
 "metadata": {
  "kernelspec": {
   "display_name": "Python 3 (ipykernel)",
   "language": "python",
   "name": "python3"
  },
  "language_info": {
   "codemirror_mode": {
    "name": "ipython",
    "version": 3
   },
   "file_extension": ".py",
   "mimetype": "text/x-python",
   "name": "python",
   "nbconvert_exporter": "python",
   "pygments_lexer": "ipython3",
   "version": "3.11.7"
  }
 },
 "nbformat": 4,
 "nbformat_minor": 5
}
